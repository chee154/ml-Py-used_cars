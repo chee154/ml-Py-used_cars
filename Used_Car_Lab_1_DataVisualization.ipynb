{
 "cells": [
  {
   "cell_type": "markdown",
   "metadata": {},
   "source": [
    "# Lab 1 - Used Cars in the USA\n",
    "#### By: David Wei, Sophia Wu, Dhruba Dey, Queena Wang"
   ]
  },
  {
   "cell_type": "markdown",
   "metadata": {},
   "source": [
    "### Business Understanding:\n",
    "As a team, we decided to work on a dataset which can easily be understood from our common life experience without needing specific domain knowledge such as finance, marketing and so forth. Secondly, we wanted to dabble ourselves with a dataset, that we had not previously exposed to, such as Real Estate, Life expectancy, etc. Off course, we must meet the project guidelines of 30,000 rows and 10 features, which in fact prompted us to look for somewhat large dataset with multiple features so that can effectively cull right set of features having numerical, boolean and categorical values. In addition, working with a large dataset would provide us with the experience that we have not acquired yet. This thought process of data selection has led us to grab “Used Car Dataset”, which has 3 million rows and 66 features. \n",
    "<br>\n",
    "<br>\n",
    "We wanted to build 3 different types of models on this dataset. First is Regression, second binary classification using Logistic Regression and third multiple classification using either K-nearest or K-means Random Forest depending on the best fit. We picked “Price” as the response feature for Regression model because it has numerical value and a pivotal point in the used car purchase. For Logistic Regression, we opted for “has_accidents” as the response variable because it has boolean values and an interesting point to observe whether we can effectively classify the used car with accidents. Finally, we used “body_type” as the target variable for multi-value classification. “Body_type” has 9 attributes which we believed a good candidate for multi-class classification. \n",
    "<br>\n",
    "<br>\n",
    "We applied first our domain knowledge, which is our collective experience of used car buying, to mine features that we thought would be relevant for making decision on a used car purchase. That helped us reduce the numbers of features from 66 to 40.  Then we took a close at each feature and tried to eliminate as many as possibleto keep the data size manageable so that we could handle data wrangling and model building, to be performed in the next phase, with the computing resources available to us. Also, we provided the justification as to why a feature was removed from the list of 40. However, we were cautious about categorical variable because itwould spawn to multiple variables after encoding. That is the key reason why we restricted the categorical feature to one. In the final dataset, we have 12 variables comprising 9 numerical, 2 boolean and 1 categorical. By the way, removing the missing values after sub-setting the data set to the intended features, we reduced the numbers of rows close to 700K from 3M. And we would also conduct PCA and Regularizations for dimensionality reduction. Based on the analysis and understanding of the data, we believed we selected the right set of data for the purpose of this project. \n"
   ]
  },
  {
   "cell_type": "code",
   "execution_count": null,
   "metadata": {
    "scrolled": false
   },
   "outputs": [],
   "source": [
    "#!pip install missingno\n",
    "#!pip install plotnine"
   ]
  },
  {
   "cell_type": "code",
   "execution_count": 39,
   "metadata": {
    "scrolled": true
   },
   "outputs": [],
   "source": [
    "#importing libraries and reading in file\n",
    "import pandas as pd\n",
    "import numpy as np\n",
    "import warnings\n",
    "import missingno as msno\n",
    "import matplotlib.pyplot as plt\n",
    "import seaborn as sns\n",
    "from plotnine.data import economics\n",
    "from plotnine import ggplot, aes, geom_line\n",
    "warnings.filterwarnings('ignore') #ignoring warnings\n",
    "\n",
    "from scipy.stats import trim_mean, kurtosis\n",
    "from scipy.stats.mstats import mode, gmean, hmean"
   ]
  },
  {
   "cell_type": "code",
   "execution_count": 2,
   "metadata": {
    "scrolled": false
   },
   "outputs": [],
   "source": [
    "# NOTE: need to change file per user\n",
    "df_raw = pd.read_csv(r'C:\\Data\\used_cars_data.csv')\n",
    "#df_raw = pd.read_csv('https://raw.githubusercontent.com/chee154/ml-Py-used_cars/main/data/kaggle_used_cars_data.csv')\n",
    "#df_raw = pd.read_csv('C:/Users/Queen/Desktop/Pandas_Demo/kaggle_used_cars_data.csv')"
   ]
  },
  {
   "cell_type": "code",
   "execution_count": 4,
   "metadata": {
    "scrolled": true
   },
   "outputs": [
    {
     "data": {
      "text/html": [
       "<div>\n",
       "<style scoped>\n",
       "    .dataframe tbody tr th:only-of-type {\n",
       "        vertical-align: middle;\n",
       "    }\n",
       "\n",
       "    .dataframe tbody tr th {\n",
       "        vertical-align: top;\n",
       "    }\n",
       "\n",
       "    .dataframe thead th {\n",
       "        text-align: right;\n",
       "    }\n",
       "</style>\n",
       "<table border=\"1\" class=\"dataframe\">\n",
       "  <thead>\n",
       "    <tr style=\"text-align: right;\">\n",
       "      <th></th>\n",
       "      <th>vin</th>\n",
       "      <th>back_legroom</th>\n",
       "      <th>bed</th>\n",
       "      <th>bed_height</th>\n",
       "      <th>bed_length</th>\n",
       "      <th>body_type</th>\n",
       "      <th>cabin</th>\n",
       "      <th>city</th>\n",
       "      <th>city_fuel_economy</th>\n",
       "      <th>combine_fuel_economy</th>\n",
       "      <th>...</th>\n",
       "      <th>transmission</th>\n",
       "      <th>transmission_display</th>\n",
       "      <th>trimId</th>\n",
       "      <th>trim_name</th>\n",
       "      <th>vehicle_damage_category</th>\n",
       "      <th>wheel_system</th>\n",
       "      <th>wheel_system_display</th>\n",
       "      <th>wheelbase</th>\n",
       "      <th>width</th>\n",
       "      <th>year</th>\n",
       "    </tr>\n",
       "  </thead>\n",
       "  <tbody>\n",
       "    <tr>\n",
       "      <th>0</th>\n",
       "      <td>ZACNJABB5KPJ92081</td>\n",
       "      <td>35.1 in</td>\n",
       "      <td>NaN</td>\n",
       "      <td>NaN</td>\n",
       "      <td>NaN</td>\n",
       "      <td>SUV / Crossover</td>\n",
       "      <td>NaN</td>\n",
       "      <td>Bayamon</td>\n",
       "      <td>NaN</td>\n",
       "      <td>NaN</td>\n",
       "      <td>...</td>\n",
       "      <td>A</td>\n",
       "      <td>9-Speed Automatic Overdrive</td>\n",
       "      <td>t83804</td>\n",
       "      <td>Latitude FWD</td>\n",
       "      <td>NaN</td>\n",
       "      <td>FWD</td>\n",
       "      <td>Front-Wheel Drive</td>\n",
       "      <td>101.2 in</td>\n",
       "      <td>79.6 in</td>\n",
       "      <td>2019</td>\n",
       "    </tr>\n",
       "    <tr>\n",
       "      <th>1</th>\n",
       "      <td>SALCJ2FX1LH858117</td>\n",
       "      <td>38.1 in</td>\n",
       "      <td>NaN</td>\n",
       "      <td>NaN</td>\n",
       "      <td>NaN</td>\n",
       "      <td>SUV / Crossover</td>\n",
       "      <td>NaN</td>\n",
       "      <td>San Juan</td>\n",
       "      <td>NaN</td>\n",
       "      <td>NaN</td>\n",
       "      <td>...</td>\n",
       "      <td>A</td>\n",
       "      <td>9-Speed Automatic Overdrive</td>\n",
       "      <td>t86759</td>\n",
       "      <td>S AWD</td>\n",
       "      <td>NaN</td>\n",
       "      <td>AWD</td>\n",
       "      <td>All-Wheel Drive</td>\n",
       "      <td>107.9 in</td>\n",
       "      <td>85.6 in</td>\n",
       "      <td>2020</td>\n",
       "    </tr>\n",
       "    <tr>\n",
       "      <th>2</th>\n",
       "      <td>JF1VA2M67G9829723</td>\n",
       "      <td>35.4 in</td>\n",
       "      <td>NaN</td>\n",
       "      <td>NaN</td>\n",
       "      <td>NaN</td>\n",
       "      <td>Sedan</td>\n",
       "      <td>NaN</td>\n",
       "      <td>Guaynabo</td>\n",
       "      <td>17.0</td>\n",
       "      <td>NaN</td>\n",
       "      <td>...</td>\n",
       "      <td>M</td>\n",
       "      <td>6-Speed Manual</td>\n",
       "      <td>t58994</td>\n",
       "      <td>Base</td>\n",
       "      <td>NaN</td>\n",
       "      <td>AWD</td>\n",
       "      <td>All-Wheel Drive</td>\n",
       "      <td>104.3 in</td>\n",
       "      <td>78.9 in</td>\n",
       "      <td>2016</td>\n",
       "    </tr>\n",
       "    <tr>\n",
       "      <th>3</th>\n",
       "      <td>SALRR2RV0L2433391</td>\n",
       "      <td>37.6 in</td>\n",
       "      <td>NaN</td>\n",
       "      <td>NaN</td>\n",
       "      <td>NaN</td>\n",
       "      <td>SUV / Crossover</td>\n",
       "      <td>NaN</td>\n",
       "      <td>San Juan</td>\n",
       "      <td>NaN</td>\n",
       "      <td>NaN</td>\n",
       "      <td>...</td>\n",
       "      <td>A</td>\n",
       "      <td>8-Speed Automatic Overdrive</td>\n",
       "      <td>t86074</td>\n",
       "      <td>V6 HSE AWD</td>\n",
       "      <td>NaN</td>\n",
       "      <td>AWD</td>\n",
       "      <td>All-Wheel Drive</td>\n",
       "      <td>115 in</td>\n",
       "      <td>87.4 in</td>\n",
       "      <td>2020</td>\n",
       "    </tr>\n",
       "    <tr>\n",
       "      <th>4</th>\n",
       "      <td>SALCJ2FXXLH862327</td>\n",
       "      <td>38.1 in</td>\n",
       "      <td>NaN</td>\n",
       "      <td>NaN</td>\n",
       "      <td>NaN</td>\n",
       "      <td>SUV / Crossover</td>\n",
       "      <td>NaN</td>\n",
       "      <td>San Juan</td>\n",
       "      <td>NaN</td>\n",
       "      <td>NaN</td>\n",
       "      <td>...</td>\n",
       "      <td>A</td>\n",
       "      <td>9-Speed Automatic Overdrive</td>\n",
       "      <td>t86759</td>\n",
       "      <td>S AWD</td>\n",
       "      <td>NaN</td>\n",
       "      <td>AWD</td>\n",
       "      <td>All-Wheel Drive</td>\n",
       "      <td>107.9 in</td>\n",
       "      <td>85.6 in</td>\n",
       "      <td>2020</td>\n",
       "    </tr>\n",
       "  </tbody>\n",
       "</table>\n",
       "<p>5 rows × 66 columns</p>\n",
       "</div>"
      ],
      "text/plain": [
       "                 vin back_legroom  bed bed_height bed_length        body_type  \\\n",
       "0  ZACNJABB5KPJ92081      35.1 in  NaN        NaN        NaN  SUV / Crossover   \n",
       "1  SALCJ2FX1LH858117      38.1 in  NaN        NaN        NaN  SUV / Crossover   \n",
       "2  JF1VA2M67G9829723      35.4 in  NaN        NaN        NaN            Sedan   \n",
       "3  SALRR2RV0L2433391      37.6 in  NaN        NaN        NaN  SUV / Crossover   \n",
       "4  SALCJ2FXXLH862327      38.1 in  NaN        NaN        NaN  SUV / Crossover   \n",
       "\n",
       "  cabin      city  city_fuel_economy  combine_fuel_economy  ...  transmission  \\\n",
       "0   NaN   Bayamon                NaN                   NaN  ...             A   \n",
       "1   NaN  San Juan                NaN                   NaN  ...             A   \n",
       "2   NaN  Guaynabo               17.0                   NaN  ...             M   \n",
       "3   NaN  San Juan                NaN                   NaN  ...             A   \n",
       "4   NaN  San Juan                NaN                   NaN  ...             A   \n",
       "\n",
       "          transmission_display  trimId     trim_name  vehicle_damage_category  \\\n",
       "0  9-Speed Automatic Overdrive  t83804  Latitude FWD                      NaN   \n",
       "1  9-Speed Automatic Overdrive  t86759         S AWD                      NaN   \n",
       "2               6-Speed Manual  t58994          Base                      NaN   \n",
       "3  8-Speed Automatic Overdrive  t86074    V6 HSE AWD                      NaN   \n",
       "4  9-Speed Automatic Overdrive  t86759         S AWD                      NaN   \n",
       "\n",
       "  wheel_system wheel_system_display wheelbase    width  year  \n",
       "0          FWD    Front-Wheel Drive  101.2 in  79.6 in  2019  \n",
       "1          AWD      All-Wheel Drive  107.9 in  85.6 in  2020  \n",
       "2          AWD      All-Wheel Drive  104.3 in  78.9 in  2016  \n",
       "3          AWD      All-Wheel Drive    115 in  87.4 in  2020  \n",
       "4          AWD      All-Wheel Drive  107.9 in  85.6 in  2020  \n",
       "\n",
       "[5 rows x 66 columns]"
      ]
     },
     "execution_count": 4,
     "metadata": {},
     "output_type": "execute_result"
    }
   ],
   "source": [
    "df_raw.head(5)"
   ]
  },
  {
   "cell_type": "code",
   "execution_count": 5,
   "metadata": {
    "scrolled": false
   },
   "outputs": [
    {
     "name": "stdout",
     "output_type": "stream",
     "text": [
      "Total # of Records: 3000040\n",
      "Total # of Columns: 66\n"
     ]
    }
   ],
   "source": [
    "print(\"Total # of Records: \" + str(df_raw.shape[0]))\n",
    "print(\"Total # of Columns: \" + str(df_raw.shape[1]))"
   ]
  },
  {
   "cell_type": "markdown",
   "metadata": {},
   "source": [
    "### Data Meaning Type"
   ]
  },
  {
   "cell_type": "markdown",
   "metadata": {},
   "source": [
    "#### Domain based Attribute Reduction\n",
    "Before we do a deep dive into the types of our data, we will first look into reducing it from a  The total dataset has 66 attributes After a quick observation of the column headers, we can deduce that not all columns will be necessary for our analysis. Reasons for removing them below:"
   ]
  },
  {
   "cell_type": "code",
   "execution_count": 6,
   "metadata": {
    "scrolled": false
   },
   "outputs": [
    {
     "name": "stdout",
     "output_type": "stream",
     "text": [
      "<class 'pandas.core.frame.DataFrame'>\n",
      "RangeIndex: 3000040 entries, 0 to 3000039\n",
      "Data columns (total 40 columns):\n",
      " #   Column                Dtype  \n",
      "---  ------                -----  \n",
      " 0   vin                   object \n",
      " 1   body_type             object \n",
      " 2   city                  object \n",
      " 3   city_fuel_economy     float64\n",
      " 4   combine_fuel_economy  float64\n",
      " 5   daysonmarket          int64  \n",
      " 6   engine_cylinders      object \n",
      " 7   engine_displacement   float64\n",
      " 8   engine_type           object \n",
      " 9   exterior_color        object \n",
      " 10  frame_damaged         object \n",
      " 11  franchise_dealer      bool   \n",
      " 12  franchise_make        object \n",
      " 13  fuel_tank_volume      object \n",
      " 14  fuel_type             object \n",
      " 15  has_accidents         object \n",
      " 16  height                object \n",
      " 17  highway_fuel_economy  float64\n",
      " 18  horsepower            float64\n",
      " 19  interior_color        object \n",
      " 20  isCab                 object \n",
      " 21  is_new                bool   \n",
      " 22  length                object \n",
      " 23  listed_date           object \n",
      " 24  listing_color         object \n",
      " 25  make_name             object \n",
      " 26  maximum_seating       object \n",
      " 27  mileage               float64\n",
      " 28  model_name            object \n",
      " 29  owner_count           float64\n",
      " 30  power                 object \n",
      " 31  price                 float64\n",
      " 32  salvage               object \n",
      " 33  seller_rating         float64\n",
      " 34  torque                object \n",
      " 35  transmission          object \n",
      " 36  wheel_system          object \n",
      " 37  wheel_system_display  object \n",
      " 38  width                 object \n",
      " 39  year                  int64  \n",
      "dtypes: bool(2), float64(9), int64(2), object(27)\n",
      "memory usage: 875.5+ MB\n",
      "None\n"
     ]
    }
   ],
   "source": [
    "#subsetting columns by referencing the column indexes\n",
    "df_cln_1 = df_raw.iloc[:, np.r_[0,5,7:11,13:17,18:21,22:30,32,35:38,42:50,51,55:57,61:63,64:66]]\n",
    "print(df_cln_1.info())"
   ]
  },
  {
   "cell_type": "markdown",
   "metadata": {},
   "source": [
    "### Data Quality"
   ]
  },
  {
   "cell_type": "code",
   "execution_count": null,
   "metadata": {
    "scrolled": true
   },
   "outputs": [],
   "source": [
    "msno.matrix(df_cln_1)"
   ]
  },
  {
   "cell_type": "markdown",
   "metadata": {},
   "source": [
    "After doing a quick profiling on some our identified columsn, we can see that both engine_cylinders and engine_type are the same. Additionally, we also found that the prefixes and suffixes attached to them are descriptive of it and thus not a continuous value. "
   ]
  },
  {
   "cell_type": "code",
   "execution_count": 7,
   "metadata": {
    "scrolled": true
   },
   "outputs": [
    {
     "name": "stdout",
     "output_type": "stream",
     "text": [
      "39\n"
     ]
    }
   ],
   "source": [
    "# removing city_fuel_economy since a quick vizualition of our dataset shows that ALL values are empty\n",
    "df_cln_1 = df_cln_1.drop(columns='combine_fuel_economy')\n",
    "print(df_cln_1.shape[1])"
   ]
  },
  {
   "cell_type": "markdown",
   "metadata": {},
   "source": [
    "We also found that 'engine_cylinders','engine_type' contains the same data in two separate columns, so we first test if this condition is true and if it is, we will remove one."
   ]
  },
  {
   "cell_type": "code",
   "execution_count": 8,
   "metadata": {
    "scrolled": true
   },
   "outputs": [
    {
     "name": "stdout",
     "output_type": "stream",
     "text": [
      "38\n"
     ]
    }
   ],
   "source": [
    "#observing if 'engine_cylinders','engine_type' is the same data\n",
    "if df_cln_1['engine_cylinders'].equals(df_cln_1['engine_type']) == True:\n",
    "    df_cln_1 = df_cln_1.drop(columns='engine_cylinders')\n",
    "    print(df_cln_1.shape[1])"
   ]
  },
  {
   "cell_type": "markdown",
   "metadata": {},
   "source": [
    "We also found additional columns that were simply descriptions of another columns, for example. The 'wheel_system_display' attribute is simply a longer, more descriptive version of the 'wheel_system' attribute (\"Front-Wheel Drive\" vs \"FWD\"). For columns that follow this trend, we will remove the descriptive column from our dataset. "
   ]
  },
  {
   "cell_type": "code",
   "execution_count": 9,
   "metadata": {
    "scrolled": false
   },
   "outputs": [
    {
     "name": "stdout",
     "output_type": "stream",
     "text": [
      "        wheel_system\n",
      "0                FWD\n",
      "1                AWD\n",
      "2                AWD\n",
      "3                AWD\n",
      "4                AWD\n",
      "...              ...\n",
      "3000035          FWD\n",
      "3000036          FWD\n",
      "3000037          FWD\n",
      "3000038          AWD\n",
      "3000039          FWD\n",
      "\n",
      "[3000040 rows x 1 columns]\n",
      "        wheel_system_display\n",
      "0          Front-Wheel Drive\n",
      "1            All-Wheel Drive\n",
      "2            All-Wheel Drive\n",
      "3            All-Wheel Drive\n",
      "4            All-Wheel Drive\n",
      "...                      ...\n",
      "3000035    Front-Wheel Drive\n",
      "3000036    Front-Wheel Drive\n",
      "3000037    Front-Wheel Drive\n",
      "3000038      All-Wheel Drive\n",
      "3000039    Front-Wheel Drive\n",
      "\n",
      "[3000040 rows x 1 columns]\n",
      "37\n"
     ]
    }
   ],
   "source": [
    "print(df_cln_1[['wheel_system']])\n",
    "print(df_cln_1[['wheel_system_display']])\n",
    "df_cln_1 = df_cln_1.drop(columns='wheel_system_display')\n",
    "print(df_cln_1.shape[1])"
   ]
  },
  {
   "cell_type": "markdown",
   "metadata": {},
   "source": [
    "We also discussed that 'interior_color' attribute has 45,726 distinct color values and so due to the sheer volume and complexity (# of levels in this attribute). We also decided to remove it from our dataset since it is unrealistic for the type of modeling we are doing and would effect the overall performance of our model."
   ]
  },
  {
   "cell_type": "code",
   "execution_count": null,
   "metadata": {
    "scrolled": true
   },
   "outputs": [],
   "source": [
    "#note this plot takes forever to run\n",
    "#(ggplot(df_cln_1)+aes(x=\"interior_color\", y=\"price\")+geom_line())"
   ]
  },
  {
   "cell_type": "code",
   "execution_count": 10,
   "metadata": {
    "scrolled": true
   },
   "outputs": [
    {
     "name": "stdout",
     "output_type": "stream",
     "text": [
      "45726\n",
      "36\n"
     ]
    }
   ],
   "source": [
    "print(df_cln_1['interior_color'].nunique())\n",
    "\n",
    "df_cln_1 = df_cln_1.drop(columns='interior_color')\n",
    "print(df_cln_1.shape[1])"
   ]
  },
  {
   "cell_type": "markdown",
   "metadata": {},
   "source": [
    "Another attribute we found that could be removed as the \"listed_date\" attribute. Since there was no other 'datetype' attributes available in our dataset, we didn't really see a point with keeping it as there was no other data reference to use it with. Additionally, the attribute 'daysonmarket' already pre-aggregated the number of days it took to sell a vehicle, which the listed date would've been used for otherwise. Because of this, we will also remove it from our dataframe."
   ]
  },
  {
   "cell_type": "code",
   "execution_count": 11,
   "metadata": {
    "scrolled": true
   },
   "outputs": [
    {
     "name": "stdout",
     "output_type": "stream",
     "text": [
      "35\n"
     ]
    }
   ],
   "source": [
    "df_cln_1 = df_cln_1.drop(columns='listed_date')\n",
    "print(df_cln_1.shape[1])"
   ]
  },
  {
   "cell_type": "markdown",
   "metadata": {},
   "source": [
    "At this point, we decided to take a break from subsetting our data and take a look at the amount of missing values in the current dataframe. Our intention in mind was to see what the data looked like after it was cleaned to further proceed reducing the amount of attributes we had."
   ]
  },
  {
   "cell_type": "markdown",
   "metadata": {},
   "source": [
    "### Data Cleaning - Duplicates, Missing Data,  Nulls\n",
    "Now that our datatypes have been adjusted. We will work on cleaning up any empty data in our dataset. To begin, we will check if any of the VINs have duplicates in the dataset, since this the VIN is unique to a car we are expecting there shouldn't be, but in cases there is, we will remove it."
   ]
  },
  {
   "cell_type": "code",
   "execution_count": 12,
   "metadata": {
    "scrolled": false
   },
   "outputs": [
    {
     "data": {
      "text/html": [
       "<div>\n",
       "<style scoped>\n",
       "    .dataframe tbody tr th:only-of-type {\n",
       "        vertical-align: middle;\n",
       "    }\n",
       "\n",
       "    .dataframe tbody tr th {\n",
       "        vertical-align: top;\n",
       "    }\n",
       "\n",
       "    .dataframe thead th {\n",
       "        text-align: right;\n",
       "    }\n",
       "</style>\n",
       "<table border=\"1\" class=\"dataframe\">\n",
       "  <thead>\n",
       "    <tr style=\"text-align: right;\">\n",
       "      <th></th>\n",
       "      <th>vin</th>\n",
       "      <th>body_type</th>\n",
       "      <th>city</th>\n",
       "      <th>city_fuel_economy</th>\n",
       "      <th>daysonmarket</th>\n",
       "      <th>engine_displacement</th>\n",
       "      <th>engine_type</th>\n",
       "      <th>exterior_color</th>\n",
       "      <th>frame_damaged</th>\n",
       "      <th>franchise_dealer</th>\n",
       "      <th>...</th>\n",
       "      <th>owner_count</th>\n",
       "      <th>power</th>\n",
       "      <th>price</th>\n",
       "      <th>salvage</th>\n",
       "      <th>seller_rating</th>\n",
       "      <th>torque</th>\n",
       "      <th>transmission</th>\n",
       "      <th>wheel_system</th>\n",
       "      <th>width</th>\n",
       "      <th>year</th>\n",
       "    </tr>\n",
       "  </thead>\n",
       "  <tbody>\n",
       "    <tr>\n",
       "      <th>2000032</th>\n",
       "      <td>1C3CCCBG4FN686074</td>\n",
       "      <td>Sedan</td>\n",
       "      <td>Deer Park</td>\n",
       "      <td>19.0</td>\n",
       "      <td>530</td>\n",
       "      <td>3600.0</td>\n",
       "      <td>V6</td>\n",
       "      <td>Blue</td>\n",
       "      <td>False</td>\n",
       "      <td>False</td>\n",
       "      <td>...</td>\n",
       "      <td>1.0</td>\n",
       "      <td>295 hp @ 6,350 RPM</td>\n",
       "      <td>13488.0</td>\n",
       "      <td>False</td>\n",
       "      <td>4.453125</td>\n",
       "      <td>262 lb-ft @ 4,250 RPM</td>\n",
       "      <td>A</td>\n",
       "      <td>FWD</td>\n",
       "      <td>73.6 in</td>\n",
       "      <td>2015</td>\n",
       "    </tr>\n",
       "    <tr>\n",
       "      <th>2000052</th>\n",
       "      <td>1C3CCCBG4FN686074</td>\n",
       "      <td>Sedan</td>\n",
       "      <td>Deer Park</td>\n",
       "      <td>19.0</td>\n",
       "      <td>530</td>\n",
       "      <td>3600.0</td>\n",
       "      <td>V6</td>\n",
       "      <td>Blue</td>\n",
       "      <td>False</td>\n",
       "      <td>False</td>\n",
       "      <td>...</td>\n",
       "      <td>1.0</td>\n",
       "      <td>295 hp @ 6,350 RPM</td>\n",
       "      <td>13488.0</td>\n",
       "      <td>False</td>\n",
       "      <td>4.453125</td>\n",
       "      <td>262 lb-ft @ 4,250 RPM</td>\n",
       "      <td>A</td>\n",
       "      <td>FWD</td>\n",
       "      <td>73.6 in</td>\n",
       "      <td>2015</td>\n",
       "    </tr>\n",
       "    <tr>\n",
       "      <th>2000043</th>\n",
       "      <td>1C6RR7FT5ES405345</td>\n",
       "      <td>Pickup Truck</td>\n",
       "      <td>Bonners Ferry</td>\n",
       "      <td>NaN</td>\n",
       "      <td>49</td>\n",
       "      <td>5700.0</td>\n",
       "      <td>V8</td>\n",
       "      <td>GRAY</td>\n",
       "      <td>False</td>\n",
       "      <td>False</td>\n",
       "      <td>...</td>\n",
       "      <td>1.0</td>\n",
       "      <td>395 hp @ 5,600 RPM</td>\n",
       "      <td>20480.0</td>\n",
       "      <td>False</td>\n",
       "      <td>4.750000</td>\n",
       "      <td>407 lb-ft @ 3,950 RPM</td>\n",
       "      <td>NaN</td>\n",
       "      <td>4WD</td>\n",
       "      <td>79.4 in</td>\n",
       "      <td>2014</td>\n",
       "    </tr>\n",
       "    <tr>\n",
       "      <th>2000023</th>\n",
       "      <td>1C6RR7FT5ES405345</td>\n",
       "      <td>Pickup Truck</td>\n",
       "      <td>Bonners Ferry</td>\n",
       "      <td>NaN</td>\n",
       "      <td>49</td>\n",
       "      <td>5700.0</td>\n",
       "      <td>V8</td>\n",
       "      <td>GRAY</td>\n",
       "      <td>False</td>\n",
       "      <td>False</td>\n",
       "      <td>...</td>\n",
       "      <td>1.0</td>\n",
       "      <td>395 hp @ 5,600 RPM</td>\n",
       "      <td>20480.0</td>\n",
       "      <td>False</td>\n",
       "      <td>4.750000</td>\n",
       "      <td>407 lb-ft @ 3,950 RPM</td>\n",
       "      <td>NaN</td>\n",
       "      <td>4WD</td>\n",
       "      <td>79.4 in</td>\n",
       "      <td>2014</td>\n",
       "    </tr>\n",
       "    <tr>\n",
       "      <th>1000038</th>\n",
       "      <td>1FA6P8TH0J5179933</td>\n",
       "      <td>Coupe</td>\n",
       "      <td>Groveport</td>\n",
       "      <td>21.0</td>\n",
       "      <td>7</td>\n",
       "      <td>2300.0</td>\n",
       "      <td>I4</td>\n",
       "      <td>Lightning Blue Metallic</td>\n",
       "      <td>False</td>\n",
       "      <td>False</td>\n",
       "      <td>...</td>\n",
       "      <td>1.0</td>\n",
       "      <td>310 hp @ 5,500 RPM</td>\n",
       "      <td>24000.0</td>\n",
       "      <td>False</td>\n",
       "      <td>4.211765</td>\n",
       "      <td>350 lb-ft @ 3,000 RPM</td>\n",
       "      <td>A</td>\n",
       "      <td>RWD</td>\n",
       "      <td>81.9 in</td>\n",
       "      <td>2018</td>\n",
       "    </tr>\n",
       "    <tr>\n",
       "      <th>...</th>\n",
       "      <td>...</td>\n",
       "      <td>...</td>\n",
       "      <td>...</td>\n",
       "      <td>...</td>\n",
       "      <td>...</td>\n",
       "      <td>...</td>\n",
       "      <td>...</td>\n",
       "      <td>...</td>\n",
       "      <td>...</td>\n",
       "      <td>...</td>\n",
       "      <td>...</td>\n",
       "      <td>...</td>\n",
       "      <td>...</td>\n",
       "      <td>...</td>\n",
       "      <td>...</td>\n",
       "      <td>...</td>\n",
       "      <td>...</td>\n",
       "      <td>...</td>\n",
       "      <td>...</td>\n",
       "      <td>...</td>\n",
       "      <td>...</td>\n",
       "    </tr>\n",
       "    <tr>\n",
       "      <th>1000030</th>\n",
       "      <td>7FART6H88LE013181</td>\n",
       "      <td>SUV / Crossover</td>\n",
       "      <td>Westerville</td>\n",
       "      <td>40.0</td>\n",
       "      <td>28</td>\n",
       "      <td>2000.0</td>\n",
       "      <td>I4 Hybrid</td>\n",
       "      <td>Platinum White Pearl</td>\n",
       "      <td>NaN</td>\n",
       "      <td>False</td>\n",
       "      <td>...</td>\n",
       "      <td>NaN</td>\n",
       "      <td>212 hp @ 6,200 RPM</td>\n",
       "      <td>33970.0</td>\n",
       "      <td>NaN</td>\n",
       "      <td>4.377049</td>\n",
       "      <td>NaN</td>\n",
       "      <td>CVT</td>\n",
       "      <td>AWD</td>\n",
       "      <td>73 in</td>\n",
       "      <td>2020</td>\n",
       "    </tr>\n",
       "    <tr>\n",
       "      <th>2000037</th>\n",
       "      <td>JTEBU5JR5K5687002</td>\n",
       "      <td>SUV / Crossover</td>\n",
       "      <td>Airway Heights</td>\n",
       "      <td>17.0</td>\n",
       "      <td>20</td>\n",
       "      <td>4000.0</td>\n",
       "      <td>V6</td>\n",
       "      <td>WHITE</td>\n",
       "      <td>False</td>\n",
       "      <td>False</td>\n",
       "      <td>...</td>\n",
       "      <td>NaN</td>\n",
       "      <td>270 hp @ 5,600 RPM</td>\n",
       "      <td>44995.0</td>\n",
       "      <td>False</td>\n",
       "      <td>3.964286</td>\n",
       "      <td>278 lb-ft @ 4,400 RPM</td>\n",
       "      <td>A</td>\n",
       "      <td>4WD</td>\n",
       "      <td>75.8 in</td>\n",
       "      <td>2019</td>\n",
       "    </tr>\n",
       "    <tr>\n",
       "      <th>2000057</th>\n",
       "      <td>JTEBU5JR5K5687002</td>\n",
       "      <td>SUV / Crossover</td>\n",
       "      <td>Airway Heights</td>\n",
       "      <td>17.0</td>\n",
       "      <td>20</td>\n",
       "      <td>4000.0</td>\n",
       "      <td>V6</td>\n",
       "      <td>WHITE</td>\n",
       "      <td>False</td>\n",
       "      <td>False</td>\n",
       "      <td>...</td>\n",
       "      <td>NaN</td>\n",
       "      <td>270 hp @ 5,600 RPM</td>\n",
       "      <td>44995.0</td>\n",
       "      <td>False</td>\n",
       "      <td>3.964286</td>\n",
       "      <td>278 lb-ft @ 4,400 RPM</td>\n",
       "      <td>A</td>\n",
       "      <td>4WD</td>\n",
       "      <td>75.8 in</td>\n",
       "      <td>2019</td>\n",
       "    </tr>\n",
       "    <tr>\n",
       "      <th>2000044</th>\n",
       "      <td>JTNK4RBE3K3044291</td>\n",
       "      <td>NaN</td>\n",
       "      <td>Colville</td>\n",
       "      <td>NaN</td>\n",
       "      <td>33</td>\n",
       "      <td>NaN</td>\n",
       "      <td>I4</td>\n",
       "      <td>BLACK</td>\n",
       "      <td>False</td>\n",
       "      <td>True</td>\n",
       "      <td>...</td>\n",
       "      <td>1.0</td>\n",
       "      <td>NaN</td>\n",
       "      <td>21000.0</td>\n",
       "      <td>False</td>\n",
       "      <td>4.583333</td>\n",
       "      <td>NaN</td>\n",
       "      <td>A</td>\n",
       "      <td>NaN</td>\n",
       "      <td>NaN</td>\n",
       "      <td>2019</td>\n",
       "    </tr>\n",
       "    <tr>\n",
       "      <th>2000024</th>\n",
       "      <td>JTNK4RBE3K3044291</td>\n",
       "      <td>NaN</td>\n",
       "      <td>Colville</td>\n",
       "      <td>NaN</td>\n",
       "      <td>33</td>\n",
       "      <td>NaN</td>\n",
       "      <td>I4</td>\n",
       "      <td>BLACK</td>\n",
       "      <td>False</td>\n",
       "      <td>True</td>\n",
       "      <td>...</td>\n",
       "      <td>1.0</td>\n",
       "      <td>NaN</td>\n",
       "      <td>21000.0</td>\n",
       "      <td>False</td>\n",
       "      <td>4.583333</td>\n",
       "      <td>NaN</td>\n",
       "      <td>A</td>\n",
       "      <td>NaN</td>\n",
       "      <td>NaN</td>\n",
       "      <td>2019</td>\n",
       "    </tr>\n",
       "  </tbody>\n",
       "</table>\n",
       "<p>80 rows × 35 columns</p>\n",
       "</div>"
      ],
      "text/plain": [
       "                       vin        body_type            city  \\\n",
       "2000032  1C3CCCBG4FN686074            Sedan       Deer Park   \n",
       "2000052  1C3CCCBG4FN686074            Sedan       Deer Park   \n",
       "2000043  1C6RR7FT5ES405345     Pickup Truck   Bonners Ferry   \n",
       "2000023  1C6RR7FT5ES405345     Pickup Truck   Bonners Ferry   \n",
       "1000038  1FA6P8TH0J5179933            Coupe       Groveport   \n",
       "...                    ...              ...             ...   \n",
       "1000030  7FART6H88LE013181  SUV / Crossover     Westerville   \n",
       "2000037  JTEBU5JR5K5687002  SUV / Crossover  Airway Heights   \n",
       "2000057  JTEBU5JR5K5687002  SUV / Crossover  Airway Heights   \n",
       "2000044  JTNK4RBE3K3044291              NaN        Colville   \n",
       "2000024  JTNK4RBE3K3044291              NaN        Colville   \n",
       "\n",
       "         city_fuel_economy  daysonmarket  engine_displacement engine_type  \\\n",
       "2000032               19.0           530               3600.0          V6   \n",
       "2000052               19.0           530               3600.0          V6   \n",
       "2000043                NaN            49               5700.0          V8   \n",
       "2000023                NaN            49               5700.0          V8   \n",
       "1000038               21.0             7               2300.0          I4   \n",
       "...                    ...           ...                  ...         ...   \n",
       "1000030               40.0            28               2000.0   I4 Hybrid   \n",
       "2000037               17.0            20               4000.0          V6   \n",
       "2000057               17.0            20               4000.0          V6   \n",
       "2000044                NaN            33                  NaN          I4   \n",
       "2000024                NaN            33                  NaN          I4   \n",
       "\n",
       "                  exterior_color frame_damaged  franchise_dealer  ...  \\\n",
       "2000032                     Blue         False             False  ...   \n",
       "2000052                     Blue         False             False  ...   \n",
       "2000043                     GRAY         False             False  ...   \n",
       "2000023                     GRAY         False             False  ...   \n",
       "1000038  Lightning Blue Metallic         False             False  ...   \n",
       "...                          ...           ...               ...  ...   \n",
       "1000030     Platinum White Pearl           NaN             False  ...   \n",
       "2000037                    WHITE         False             False  ...   \n",
       "2000057                    WHITE         False             False  ...   \n",
       "2000044                    BLACK         False              True  ...   \n",
       "2000024                    BLACK         False              True  ...   \n",
       "\n",
       "        owner_count               power    price salvage seller_rating  \\\n",
       "2000032         1.0  295 hp @ 6,350 RPM  13488.0   False      4.453125   \n",
       "2000052         1.0  295 hp @ 6,350 RPM  13488.0   False      4.453125   \n",
       "2000043         1.0  395 hp @ 5,600 RPM  20480.0   False      4.750000   \n",
       "2000023         1.0  395 hp @ 5,600 RPM  20480.0   False      4.750000   \n",
       "1000038         1.0  310 hp @ 5,500 RPM  24000.0   False      4.211765   \n",
       "...             ...                 ...      ...     ...           ...   \n",
       "1000030         NaN  212 hp @ 6,200 RPM  33970.0     NaN      4.377049   \n",
       "2000037         NaN  270 hp @ 5,600 RPM  44995.0   False      3.964286   \n",
       "2000057         NaN  270 hp @ 5,600 RPM  44995.0   False      3.964286   \n",
       "2000044         1.0                 NaN  21000.0   False      4.583333   \n",
       "2000024         1.0                 NaN  21000.0   False      4.583333   \n",
       "\n",
       "                        torque  transmission wheel_system    width  year  \n",
       "2000032  262 lb-ft @ 4,250 RPM             A          FWD  73.6 in  2015  \n",
       "2000052  262 lb-ft @ 4,250 RPM             A          FWD  73.6 in  2015  \n",
       "2000043  407 lb-ft @ 3,950 RPM           NaN          4WD  79.4 in  2014  \n",
       "2000023  407 lb-ft @ 3,950 RPM           NaN          4WD  79.4 in  2014  \n",
       "1000038  350 lb-ft @ 3,000 RPM             A          RWD  81.9 in  2018  \n",
       "...                        ...           ...          ...      ...   ...  \n",
       "1000030                    NaN           CVT          AWD    73 in  2020  \n",
       "2000037  278 lb-ft @ 4,400 RPM             A          4WD  75.8 in  2019  \n",
       "2000057  278 lb-ft @ 4,400 RPM             A          4WD  75.8 in  2019  \n",
       "2000044                    NaN             A          NaN      NaN  2019  \n",
       "2000024                    NaN             A          NaN      NaN  2019  \n",
       "\n",
       "[80 rows x 35 columns]"
      ]
     },
     "execution_count": 12,
     "metadata": {},
     "output_type": "execute_result"
    }
   ],
   "source": [
    "df_cln_1[df_cln_1.duplicated(['vin'], keep=False)].sort_values('vin')"
   ]
  },
  {
   "cell_type": "markdown",
   "metadata": {},
   "source": [
    "We can see that that there are duplicates even though the 'vin' should be specific and distinct to each car. There is a total of 80 records that contain duplicates. We will then remove these duplicates while keeping the 'first' record so that one copy of the duplcites will remain. We can see that after we cleaned these duplicates, our total # of records drop from 3,000,040 to 3,000,000. "
   ]
  },
  {
   "cell_type": "code",
   "execution_count": 13,
   "metadata": {
    "scrolled": true
   },
   "outputs": [
    {
     "name": "stdout",
     "output_type": "stream",
     "text": [
      "3000040\n"
     ]
    }
   ],
   "source": [
    "print(df_cln_1.shape[0])"
   ]
  },
  {
   "cell_type": "code",
   "execution_count": 14,
   "metadata": {
    "scrolled": true
   },
   "outputs": [
    {
     "name": "stdout",
     "output_type": "stream",
     "text": [
      "# of records after removing duplicates: 3000000\n"
     ]
    }
   ],
   "source": [
    "df_cln_1 = df_cln_1.drop_duplicates(subset=['vin'], keep='first')\n",
    "print(\"# of records after removing duplicates: \"+str(df_cln_1.shape[0]))"
   ]
  },
  {
   "cell_type": "markdown",
   "metadata": {},
   "source": [
    "After we have cleaned our duplicates. A quick visualization of our data shows that almost every column has empty values. We will focus on analyzing those that have a large amount of empty data (ex. Frame_Damaged, has_accidents, isCab, etc.)"
   ]
  },
  {
   "cell_type": "code",
   "execution_count": null,
   "metadata": {
    "scrolled": false
   },
   "outputs": [],
   "source": [
    "#visualizatin of our data BEFORE removing all rows with missing data\n",
    "msno.matrix(df_cln_1)"
   ]
  },
  {
   "cell_type": "code",
   "execution_count": 15,
   "metadata": {
    "scrolled": true
   },
   "outputs": [
    {
     "name": "stdout",
     "output_type": "stream",
     "text": [
      "697989\n"
     ]
    }
   ],
   "source": [
    "# remove the missing values\n",
    "df_cln_2 = df_cln_1.dropna()\n",
    "print(len(df_cln_2))"
   ]
  },
  {
   "cell_type": "code",
   "execution_count": 16,
   "metadata": {
    "scrolled": false
   },
   "outputs": [
    {
     "data": {
      "text/plain": [
       "vin                     697989\n",
       "body_type               697989\n",
       "city                    697989\n",
       "city_fuel_economy       697989\n",
       "daysonmarket            697989\n",
       "engine_displacement     697989\n",
       "engine_type             697989\n",
       "exterior_color          697989\n",
       "frame_damaged           697989\n",
       "franchise_dealer        697989\n",
       "franchise_make          697989\n",
       "fuel_tank_volume        697989\n",
       "fuel_type               697989\n",
       "has_accidents           697989\n",
       "height                  697989\n",
       "highway_fuel_economy    697989\n",
       "horsepower              697989\n",
       "isCab                   697989\n",
       "is_new                  697989\n",
       "length                  697989\n",
       "listing_color           697989\n",
       "make_name               697989\n",
       "maximum_seating         697989\n",
       "mileage                 697989\n",
       "model_name              697989\n",
       "owner_count             697989\n",
       "power                   697989\n",
       "price                   697989\n",
       "salvage                 697989\n",
       "seller_rating           697989\n",
       "torque                  697989\n",
       "transmission            697989\n",
       "wheel_system            697989\n",
       "width                   697989\n",
       "year                    697989\n",
       "dtype: int64"
      ]
     },
     "execution_count": 16,
     "metadata": {},
     "output_type": "execute_result"
    }
   ],
   "source": [
    "# checking the row counts of columns to see the missing rows\n",
    "df_cln_2.count()"
   ]
  },
  {
   "cell_type": "code",
   "execution_count": null,
   "metadata": {
    "scrolled": true
   },
   "outputs": [],
   "source": [
    "#visualizatin of our data AFTER removing all rows with missing data\n",
    "msno.matrix(df_cln_2)"
   ]
  },
  {
   "cell_type": "markdown",
   "metadata": {},
   "source": [
    "We decided that since our original dataset was large (10gb with 3million records), that instead of imputing data based on the mean or other statistical types, that deleting all records with empty values still returned 700,000 total records that not only provides plenty of data leftover, but also raw data that isn't imputed. "
   ]
  },
  {
   "cell_type": "markdown",
   "metadata": {},
   "source": [
    "### Data Cleaning - Datatypes\n",
    "Obviously at this point we need to convert a few of our data columns to the appropriate data type by removing parts of the value string that we do not need such as \"gal\" in the ful_tank_volume"
   ]
  },
  {
   "cell_type": "code",
   "execution_count": 17,
   "metadata": {
    "scrolled": false
   },
   "outputs": [
    {
     "name": "stdout",
     "output_type": "stream",
     "text": [
      "['I4' 'V6' 'V8' 'H4' 'I6' 'V8 Flex Fuel Vehicle' 'V6 Flex Fuel Vehicle'\n",
      " 'I5' 'I4 Diesel' 'I4 Flex Fuel Vehicle' 'I4 Hybrid' 'V6 Diesel'\n",
      " 'I6 Diesel' 'I3' 'W12 Flex Fuel Vehicle' 'V6 Biodiesel' 'V12' 'V10' 'W12'\n",
      " 'H6' 'H4 Hybrid' 'V6 Hybrid' 'I4 Compressed Natural Gas' 'W16' 'R2'\n",
      " 'I6 Hybrid' 'V6 Compressed Natural Gas']\n",
      "['Silver Ice Metallic' 'Black' 'Diamond Black Crystal Pearlcoat' ...\n",
      " 'VICTORIA BLACK' 'Modern S' 'Cosmic']\n",
      "[False True]\n",
      "[ True]\n",
      "['Chevrolet' 'Jeep' 'Cadillac' 'Chrysler' 'Dodge' 'Kia' 'RAM' 'Mazda'\n",
      " 'Audi' 'Hyundai' 'Ford' 'Toyota' 'Lincoln' 'Volvo' 'GMC' 'Volkswagen'\n",
      " 'BMW' 'Lexus' 'Buick' 'Subaru' 'Scion' 'Honda' 'Acura' 'Nissan'\n",
      " 'INFINITI' 'Porsche' 'Rolls-Royce' 'Lamborghini' 'Bentley'\n",
      " 'Mercedes-Benz' 'Jaguar' 'Land Rover' 'Maserati' 'Ferrari' 'MINI' 'FIAT'\n",
      " 'Alfa Romeo' 'Mitsubishi' 'Aston Martin' 'Lotus' 'McLaren' 'SRT'\n",
      " 'Genesis' 'smart' 'Shelby' 'Pagani']\n",
      "['15.8 gal' '17.4 gal' '19.4 gal' '22 gal' '24.6 gal' '13.5 gal'\n",
      " '13.2 gal' '15.9 gal' '12.7 gal' '22.5 gal' '21.5 gal' '18.5 gal'\n",
      " '26 gal' '12.4 gal' '19.2 gal' '18.6 gal' '23.2 gal' '24 gal' '16.4 gal'\n",
      " '13.7 gal' '19 gal' '14.5 gal' '14 gal' '18 gal' '16.9 gal' '21 gal'\n",
      " '19.5 gal' '31 gal' '18.8 gal' '16 gal' '16.6 gal' '21.7 gal' '20 gal'\n",
      " '15.3 gal' '22.2 gal' '17.2 gal' '21.1 gal' '16.1 gal' '13 gal'\n",
      " '23.8 gal' '17 gal' '15.1 gal' '19.8 gal' '23 gal' '20.5 gal' '11.9 gal'\n",
      " '14.2 gal' '14.3 gal' '14.8 gal' '17.7 gal' '16.5 gal' '17.8 gal'\n",
      " '15.6 gal' '17.1 gal' '15.5 gal' '10.6 gal' '15.7 gal' '18.1 gal'\n",
      " '20.1 gal' '12.8 gal' '20.3 gal' '21.6 gal' '21.9 gal' '11.4 gal'\n",
      " '36 gal' '16.8 gal' '15.4 gal' '16.3 gal' '28.3 gal' '17.9 gal'\n",
      " '27.7 gal' '13.6 gal' '17.5 gal' '28 gal' '27 gal' '22.4 gal' '20.6 gal'\n",
      " '26.4 gal' '11.6 gal' '11.8 gal' '12 gal' '19.3 gal' '13.1 gal'\n",
      " '10.8 gal' '14.9 gal' '19.1 gal' '12.1 gal' '27.3 gal' '38 gal'\n",
      " '11.3 gal' '32 gal' '10 gal' '23.3 gal' '25 gal' '11.1 gal' '16.2 gal'\n",
      " '23.5 gal' '15 gal' '33 gal' '23.6 gal' '25.4 gal' '33.5 gal' '17.6 gal'\n",
      " '23.7 gal' '25.6 gal' '21.8 gal' '18.4 gal' '10.5 gal' '14.6 gal'\n",
      " '20.4 gal' '14.4 gal' '27.6 gal' '12.2 gal' '22.7 gal' '25.1 gal'\n",
      " '18.3 gal' '12.6 gal' '18.2 gal' '11 gal' '17.3 gal' '9.2 gal' '30 gal'\n",
      " '--' '24.3 gal' '27.8 gal' '28.5 gal' '22.8 gal' '31.5 gal' '34 gal'\n",
      " '8.7 gal' '23.9 gal' '29 gal' '18.7 gal' '20.2 gal' '35 gal' '15.2 gal'\n",
      " '21.4 gal' '16.7 gal' '39 gal' '40.7 gal' '21.2 gal' '8 gal' '12.3 gal'\n",
      " '24.1 gal' '42 gal' '13.3 gal' '7.7 gal' '7.8 gal']\n",
      "['Gasoline' 'Flex Fuel Vehicle' 'Diesel' 'Hybrid' 'Biodiesel'\n",
      " 'Compressed Natural Gas']\n",
      "[False True]\n",
      "['57.6 in' '55.1 in' '70.7 in' '69.9 in' '69.3 in' '65 in' '64.1 in'\n",
      " '58.7 in' '66.5 in' '70.8 in' '70.9 in' '73.6 in' '58.5 in' '73.9 in'\n",
      " '65.3 in' '55.7 in' '67.7 in' '64.5 in' '58.3 in' '57.7 in' '71 in'\n",
      " '76.3 in' '66.1 in' '54.6 in' '74.4 in' '64.8 in' '55.8 in' '69.4 in'\n",
      " '66.3 in' '53.1 in' '66 in' '72.6 in' '56.5 in' '66.2 in' '67.1 in'\n",
      " '65.7 in' '70.6 in' '70.2 in' '67 in' '54.4 in' '75.5 in' '58.9 in'\n",
      " '74 in' '67.9 in' '57.8 in' '69 in' '52.9 in' '67.3 in' '56.8 in'\n",
      " '63.3 in' '58.1 in' '68.9 in' '55.3 in' '66.8 in' '57.4 in' '70.4 in'\n",
      " '56.2 in' '54.2 in' '56.3 in' '67.4 in' '55.9 in' '58 in' '57.9 in'\n",
      " '57.2 in' '68.3 in' '59.6 in' '54.9 in' '68.5 in' '67.5 in' '68.4 in'\n",
      " '57.1 in' '51.8 in' '76.9 in' '75.7 in' '51.2 in' '71.4 in' '48.5 in'\n",
      " '63.5 in' '63 in' '58.2 in' '57.3 in' '69.6 in' '78.8 in' '65.6 in'\n",
      " '55 in' '56.6 in' '57.5 in' '67.8 in' '58.4 in' '73.7 in' '68 in'\n",
      " '63.6 in' '60.7 in' '62.9 in' '77.6 in' '63.2 in' '59.3 in' '59.4 in'\n",
      " '54.3 in' '59 in' '57 in' '62.7 in' '60 in' '70.3 in' '56.7 in' '77.7 in'\n",
      " '69.8 in' '61 in' '70.1 in' '69.1 in' '65.2 in' '55.5 in' '77.2 in'\n",
      " '64.4 in' '59.7 in' '72.7 in' '66.6 in' '54.8 in' '74.9 in' '78.5 in'\n",
      " '60.9 in' '55.6 in' '64.2 in' '64.7 in' '72.5 in' '68.2 in' '62.5 in'\n",
      " '61.5 in' '65.9 in' '75.8 in' '53.3 in' '62.6 in' '56 in' '61.6 in'\n",
      " '54 in' '76.7 in' '68.6 in' '65.1 in' '68.7 in' '54.5 in' '73.8 in'\n",
      " '72.2 in' '55.2 in' '59.2 in' '63.1 in' '67.2 in' '60.8 in' '76.6 in'\n",
      " '71.5 in' '70 in' '75.6 in' '77.4 in' '48.7 in' '77.5 in' '76.1 in'\n",
      " '78.4 in' '76.2 in' '68.1 in' '50.6 in' '65.4 in' '71.9 in' '76.4 in'\n",
      " '71.3 in' '66.4 in' '67.6 in' '56.4 in' '74.2 in' '56.9 in' '63.9 in'\n",
      " '75 in' '66.9 in' '78.1 in' '58.8 in' '73.4 in' '63.4 in' '75.9 in'\n",
      " '69.5 in' '61.8 in' '55.4 in' '71.6 in' '65.5 in' '72 in' '60.5 in'\n",
      " '60.1 in' '59.1 in' '48.8 in' '53.7 in' '62.2 in' '60.4 in' '56.1 in'\n",
      " '64.9 in' '71.7 in' '63.7 in' '53.5 in' '43.9 in' '108.6 in' '72.8 in'\n",
      " '70.5 in' '73.5 in' '74.6 in' '69.7 in' '59.5 in' '83.4 in' '75.3 in'\n",
      " '73 in' '78 in' '61.3 in' '72.3 in' '72.4 in' '61.7 in' '49.3 in'\n",
      " '46.5 in' '51.1 in' '45.9 in' '58.6 in' '50.9 in' '50.8 in' '51 in'\n",
      " '71.1 in' '50.7 in' '66.7 in' '54.1 in' '76 in' '75.1 in' '48.6 in'\n",
      " '53 in' '51.9 in' '49.1 in' '59.8 in' '51.4 in' '54.7 in' '50 in'\n",
      " '74.1 in' '82.4 in' '51.5 in' '76.5 in' '52.8 in' '65.8 in' '64.6 in'\n",
      " '71.8 in' '60.2 in' '52.1 in' '71.2 in' '50.4 in' '47.3 in' '47.6 in'\n",
      " '47.8 in' '68.8 in' '77 in' '53.9 in' '53.2 in' '63.8 in' '49.9 in'\n",
      " '75.2 in' '76.8 in' '78.3 in' '74.3 in' '62.4 in' '--' '99.2 in'\n",
      " '47.7 in' '45.8 in' '52.6 in' '52 in' '61.9 in' '59.9 in' '64 in'\n",
      " '107.7 in' '88 in' '51.3 in' '51.6 in' '50.1 in' '83.6 in' '77.3 in'\n",
      " '48.4 in' '60.6 in' '49 in' '51.7 in' '61.4 in' '84.1 in' '53.6 in'\n",
      " '46.6 in' '48.9 in' '74.8 in' '78.7 in' '52.2 in' '82.6 in' '47.1 in'\n",
      " '47.4 in' '47 in' '50.2 in' '50.3 in' '83.7 in' '46 in' '72.1 in'\n",
      " '52.7 in' '49.2 in' '84.6 in' '84.8 in' '46.3 in' '69.2 in' '79.3 in'\n",
      " '75.4 in' '53.8 in' '47.2 in' '52.3 in' '46.8 in' '48 in' '45.2 in'\n",
      " '44.3 in' '46.7 in' '49.4 in' '77.9 in' '80.2 in' '83.9 in' '82.2 in'\n",
      " '100.7 in' '46.4 in' '73.1 in' '74.5 in' '47.5 in' '49.7 in' '62.8 in'\n",
      " '73.2 in' '64.3 in' '50.5 in' '52.4 in' '49.8 in' '44 in' '82.1 in'\n",
      " '98.7 in' '52.5 in' '49.6 in' '44.7 in' '82.9 in' '101 in' '49.5 in'\n",
      " '77.8 in' '72.9 in' '82.3 in' '77.1 in' '74.7 in' '73.3 in' '100.8 in'\n",
      " '84.3 in' '81.2 in' '82.8 in' '48.1 in' '81.6 in' '78.2 in' '85 in'\n",
      " '80.9 in' '80.7 in' '84.5 in' '62 in' '48.3 in' '46.1 in' '83.2 in'\n",
      " '82.7 in' '48.2 in' '60.3 in' '53.4 in']\n",
      "[True False]\n",
      "[False  True]\n",
      "['193.8 in' '184.8 in' '204.3 in' '203.7 in' '189.8 in' '175.1 in'\n",
      " '166.9 in' '181.1 in' '192.3 in' '166.6 in' '173.4 in' '201.2 in'\n",
      " '188.4 in' '200.8 in' '230 in' '183.3 in' '182.3 in' '192.5 in'\n",
      " '191.1 in' '198.3 in' '210 in' '189.9 in' '182.5 in' '192.6 in'\n",
      " '203.9 in' '176.2 in' '174.7 in' '203.6 in' '188.3 in' '167.6 in'\n",
      " '183.9 in' '184.9 in' '192.8 in' '182 in' '174.5 in' '173 in' '224.9 in'\n",
      " '198.5 in' '198.4 in' '224 in' '191.4 in' '187.4 in' '190.3 in'\n",
      " '231.7 in' '201.3 in' '186.3 in' '179.4 in' '202.8 in' '191.9 in'\n",
      " '203.8 in' '199.4 in' '179.9 in' '179.3 in' '184.5 in' '172.4 in'\n",
      " '180.9 in' '173.8 in' '184.1 in' '200 in' '192.9 in' '212.4 in'\n",
      " '194.5 in' '212.3 in' '185.1 in' '189.5 in' '190.6 in' '179.5 in'\n",
      " '224.3 in' '196.2 in' '189.6 in' '182.8 in' '176.9 in' '212.7 in'\n",
      " '185.5 in' '205 in' '190.9 in' '195.5 in' '188.8 in' '196.1 in'\n",
      " '191.3 in' '160.1 in' '183.5 in' '178.1 in' '177.3 in' '201.4 in'\n",
      " '202.9 in' '191.5 in' '181.8 in' '192.1 in' '209.3 in' '229 in'\n",
      " '162.8 in' '202.5 in' '159.6 in' '163 in' '165.2 in' '194.6 in'\n",
      " '178.7 in' '183.4 in' '197.2 in' '182.6 in' '185.7 in' '185 in'\n",
      " '182.2 in' '168 in' '182.7 in' '197.9 in' '175.4 in' '190.4 in'\n",
      " '190.7 in' '202 in' '229.9 in' '185.3 in' '189 in' '181 in' '175.8 in'\n",
      " '193.1 in' '189.1 in' '232.9 in' '195.7 in' '229.8 in' '169.1 in'\n",
      " '188.5 in' '187.2 in' '200.9 in' '186.8 in' '179.1 in' '190.2 in'\n",
      " '179.2 in' '229.5 in' '184.4 in' '161.6 in' '222.9 in' '185.6 in'\n",
      " '204 in' '183.6 in' '183.1 in' '182.1 in' '193.9 in' '171.9 in'\n",
      " '172.6 in' '180.7 in' '185.9 in' '199.6 in' '176.4 in' '231.9 in'\n",
      " '198.6 in' '174.8 in' '189.2 in' '180.2 in' '200.2 in' '205.8 in'\n",
      " '180 in' '197.1 in' '198 in' '180.3 in' '168.3 in' '181.9 in' '175.6 in'\n",
      " '181.5 in' '178.3 in' '190 in' '191.8 in' '199.8 in' '180.6 in'\n",
      " '168.4 in' '188.9 in' '202.2 in' '187.8 in' '173.2 in' '196.5 in'\n",
      " '172.8 in' '200.6 in' '191.6 in' '177.8 in' '184.6 in' '204.9 in'\n",
      " '208.3 in' '185.2 in' '173.6 in' '192.2 in' '177.9 in' '183.8 in'\n",
      " '162 in' '168.7 in' '193.5 in' '189.7 in' '194.2 in' '164 in' '203.2 in'\n",
      " '182.9 in' '202.4 in' '170.9 in' '188.1 in' '175.5 in' '187.1 in'\n",
      " '224.4 in' '174.3 in' '186.7 in' '184.2 in' '193.3 in' '159.3 in'\n",
      " '152.8 in' '167 in' '205.6 in' '195 in' '172 in' '191.7 in' '190.5 in'\n",
      " '175.9 in' '205.5 in' '204.1 in' '201.8 in' '176.5 in' '221.3 in'\n",
      " '197.5 in' '194.9 in' '215 in' '200.1 in' '192.4 in' '237.9 in'\n",
      " '199.9 in' '193.6 in' '241.8 in' '218 in' '221.9 in' '194.1 in'\n",
      " '230.2 in' '166.7 in' '194.7 in' '202.1 in' '200.3 in' '191 in'\n",
      " '196.8 in' '193.4 in' '183.7 in' '208.9 in' '184.3 in' '164.3 in'\n",
      " '198.8 in' '181.3 in' '167.2 in' '161.8 in' '186.1 in' '171.2 in'\n",
      " '195.6 in' '169.3 in' '171.3 in' '195.3 in' '170.5 in' '228.9 in'\n",
      " '196.9 in' '207.4 in' '206.5 in' '179 in' '176 in' '193.2 in' '206.6 in'\n",
      " '183 in' '178.8 in' '171.7 in' '197.7 in' '162.4 in' '146.2 in'\n",
      " '194.3 in' '205.3 in' '161.3 in' '171.6 in' '200.4 in' '157.4 in'\n",
      " '228.7 in' '172.2 in' '192.7 in' '196.6 in' '167.5 in' '160 in'\n",
      " '163.7 in' '154.1 in' '164.9 in' '195.4 in' '174.2 in' '192 in'\n",
      " '201.9 in' '170.4 in' '161.7 in' '168.2 in' '196.4 in' '243.7 in'\n",
      " '229.4 in' '155.5 in' '149 in' '235.5 in' '201.6 in' '225.5 in'\n",
      " '200.7 in' '208.1 in' '207.2 in' '193.7 in' '224.6 in' '151.9 in'\n",
      " '190.1 in' '188.2 in' '186.2 in' '180.5 in' '171.5 in' '216.7 in'\n",
      " '166.8 in' '177 in' '222.3 in' '169.8 in' '178.2 in' '161.4 in'\n",
      " '208.5 in' '220.9 in' '190.8 in' '202.6 in' '176.8 in' '212.6 in'\n",
      " '154.7 in' '208.6 in' '177.5 in' '194 in' '207.9 in' '220.8 in'\n",
      " '203.3 in' '219.3 in' '177.1 in' '178.5 in' '197 in' '180.1 in'\n",
      " '194.8 in' '173.9 in' '194.4 in' '184.7 in' '206.9 in' '191.2 in'\n",
      " '228.1 in' '207.6 in' '168.8 in' '195.1 in' '169.6 in' '174.6 in'\n",
      " '172.1 in' '144.4 in' '169 in' '198.9 in' '160.7 in' '188 in' '237.6 in'\n",
      " '195.9 in' '201.7 in' '207.1 in' '209 in' '165 in' '187 in' '196.7 in'\n",
      " '176.3 in' '187.5 in' '207 in' '206 in' '159 in' '207.7 in' '178.6 in'\n",
      " '195.2 in' '205.1 in' '175 in' '229.3 in' '150.9 in' '179.6 in'\n",
      " '162.2 in' '186 in' '210.2 in' '158 in' '176.6 in' '164.7 in' '186.5 in'\n",
      " '208.7 in' '197.3 in' '182.4 in' '204.4 in' '145.6 in' '159.7 in'\n",
      " '204.7 in' '206.1 in' '184 in' '222.4 in' '239.6 in' '212 in' '152.7 in'\n",
      " '227.7 in' '169.5 in' '201 in' '223.8 in' '--' '176.7 in' '179.7 in'\n",
      " '173.5 in' '189.3 in' '203 in' '187.6 in' '173.1 in' '181.7 in'\n",
      " '170.7 in' '231.8 in' '186.4 in' '187.9 in' '151.1 in' '219.5 in'\n",
      " '169.9 in' '139.6 in' '193 in' '149.4 in' '263.9 in' '187.3 in'\n",
      " '196.3 in' '150.6 in' '180.4 in' '228.5 in' '185.8 in' '186.6 in'\n",
      " '219.9 in' '211.2 in' '172.3 in' '201.5 in' '207.8 in' '183.2 in'\n",
      " '171 in' '225.9 in' '166.1 in' '177.4 in' '227.9 in' '250.5 in'\n",
      " '161.5 in' '213.2 in' '165.9 in' '197.6 in' '197.4 in' '175.2 in'\n",
      " '167.8 in' '171.1 in' '181.6 in' '206.2 in' '188.7 in' '163.3 in'\n",
      " '244.1 in' '179.8 in' '165.3 in' '150.1 in' '220.6 in' '227.5 in'\n",
      " '242.8 in' '168.9 in' '231 in' '177.2 in' '209.1 in' '174.4 in'\n",
      " '177.6 in' '148.8 in' '206.7 in' '167.3 in' '211.4 in' '203.1 in'\n",
      " '156.7 in' '199.1 in' '180.8 in' '147 in' '219.4 in' '155.3 in'\n",
      " '224.1 in' '235.8 in' '165.8 in' '185.4 in' '178.4 in' '214.7 in'\n",
      " '178.9 in' '165.4 in' '171.4 in' '159.4 in' '144.7 in' '218.3 in'\n",
      " '155 in' '157 in' '250.3 in' '157.2 in' '168.1 in' '159.8 in' '221.6 in'\n",
      " '174.1 in' '211.1 in' '215.4 in' '163.1 in' '206.8 in' '174.9 in'\n",
      " '169.7 in' '201.1 in' '164.5 in' '155.4 in' '166.5 in' '200.5 in'\n",
      " '232.1 in' '176.1 in' '166 in' '236.7 in' '247.8 in' '168.5 in' '174 in'\n",
      " '209.8 in' '170.3 in' '161.1 in' '106.1 in' '163.2 in' '169.4 in'\n",
      " '167.7 in' '163.8 in' '199.2 in' '189.4 in' '211.9 in' '154.3 in'\n",
      " '160.5 in' '243.9 in' '226.2 in' '164.8 in' '225.8 in' '172.5 in'\n",
      " '208.4 in' '199.3 in' '198.1 in' '167.4 in' '167.9 in' '249.2 in'\n",
      " '218.5 in' '205.9 in' '230.1 in' '153.5 in' '163.5 in' '159.1 in'\n",
      " '213.1 in' '215.1 in' '178 in' '217.5 in' '175.7 in' '196 in' '207.3 in'\n",
      " '195.8 in' '215.3 in' '198.2 in' '218.8 in' '166.2 in' '158.5 in'\n",
      " '146.8 in' '229.6 in' '239 in' '217.8 in' '154.9 in' '224.2 in'\n",
      " '205.7 in' '152.5 in' '172.9 in' '143.1 in' '155.8 in' '172.7 in'\n",
      " '247.6 in' '222 in' '175.3 in' '236 in' '158.1 in' '224.5 in' '266.1 in'\n",
      " '162.9 in' '250.4 in' '188.6 in' '143.9 in' '202.7 in' '225.1 in'\n",
      " '152 in' '223.3 in' '220.1 in' '157.3 in' '202.3 in' '247.9 in'\n",
      " '237.2 in' '157.1 in' '148 in' '177.7 in' '164.4 in' '186.9 in' '199 in'\n",
      " '170.2 in' '156.1 in' '165.1 in' '221.4 in' '157.9 in' '218.9 in'\n",
      " '155.7 in' '206.3 in' '211.8 in' '243.2 in' '199.7 in' '157.5 in'\n",
      " '220.2 in' '173.7 in' '181.2 in' '153 in' '211.5 in' '222.1 in'\n",
      " '241.2 in' '246.6 in' '210.7 in' '228.2 in' '214.8 in' '237.3 in'\n",
      " '221.7 in' '151.8 in' '236.4 in' '170.1 in' '155.9 in' '214.1 in'\n",
      " '249 in' '197.8 in' '160.4 in' '227.6 in' '161.9 in' '246.7 in'\n",
      " '229.7 in' '204.8 in' '220.3 in' '239.7 in' '209.7 in' '241.3 in'\n",
      " '215.8 in' '142.8 in' '164.6 in' '152.6 in' '205.4 in' '238.9 in'\n",
      " '208 in' '147.2 in' '205.2 in' '226.9 in' '227.2 in' '147.7 in'\n",
      " '212.2 in' '207.5 in']\n"
     ]
    },
    {
     "name": "stdout",
     "output_type": "stream",
     "text": [
      "['SILVER' 'BLACK' 'RED' 'WHITE' 'UNKNOWN' 'BLUE' 'GRAY' 'BROWN' 'YELLOW'\n",
      " 'ORANGE' 'GREEN' 'PURPLE' 'TEAL' 'GOLD' 'PINK']\n",
      "['Chevrolet' 'Lexus' 'Jeep' 'Hyundai' 'Cadillac' 'Chrysler' 'Dodge'\n",
      " 'Nissan' 'Honda' 'Mercedes-Benz' 'Kia' 'Ford' 'Lincoln' 'Subaru' 'BMW'\n",
      " 'Audi' 'Volkswagen' 'Jaguar' 'Mazda' 'GMC' 'Toyota' 'Acura' 'INFINITI'\n",
      " 'RAM' 'FIAT' 'Volvo' 'Buick' 'Land Rover' 'Mitsubishi' 'Genesis'\n",
      " 'Maserati' 'Saab' 'Bentley' 'MINI' 'Alfa Romeo' 'Porsche' 'Lotus'\n",
      " 'Rolls-Royce' 'Lamborghini' 'Scion' 'Saturn' 'Ferrari' 'Pontiac'\n",
      " 'Mercury' 'Suzuki' 'Aston Martin' 'Oldsmobile' 'McLaren' 'smart' 'Isuzu'\n",
      " 'Plymouth' 'Hummer' 'SRT' 'Bugatti']\n",
      "['5 seats' '4 seats' '8 seats' '7 seats' '6 seats' '2 seats' '3 seats'\n",
      " '15 seats' '12 seats' '9 seats' '--' '10 seats']\n",
      "['Malibu' 'RC 350' 'Traverse' 'Grand Cherokee' 'Compass' 'Veloster' 'XT4'\n",
      " '200' 'Renegade' 'Wrangler Unlimited' 'Durango' 'Charger'\n",
      " 'Silverado 1500' 'Rogue' 'Civic' 'RX 350' 'GLC-Class' 'Optima' 'Explorer'\n",
      " 'Navigator' 'Outback' '4 Series' 'GLE-Class' 'Escalade' 'Tucson'\n",
      " '2 Series' 'Pacifica' 'Camaro' 'Trax' 'SQ5' 'Maxima' 'Cherokee' 'Tiguan'\n",
      " 'Colorado' 'Pathfinder' 'Suburban' 'Blazer' 'Sorento' 'SRX' 'Mustang'\n",
      " 'Impala' 'F-PACE' 'Town & Country' 'Altima' 'CX-9' 'Elantra' 'CX-5'\n",
      " 'C-Class' 'Rogue Sport' 'WRX' 'Sonata' 'Grand Caravan' 'Patriot'\n",
      " 'Santa Fe' 'LS 460' 'Accord' 'Canyon' 'Pilot' 'Passat' 'Tacoma' 'A4'\n",
      " 'XT5' 'Forte' 'Escalade ESV' 'MDX' 'ATS' 'Liberty' 'Terrain' 'S-Class'\n",
      " 'Camry' 'CTS' 'Edge' 'Acadia' 'Q70' 'Fiesta' 'RAV4' 'Escape' 'Sedona'\n",
      " 'Odyssey' 'MAZDA6' 'SL-Class' 'E-Class' 'F-150' '1500' 'SLK-Class'\n",
      " '124 Spider' 'RAM 1500' 'Soul' '5 Series' 'X3' 'CTS-V' 'Santa Fe Sport'\n",
      " 'Q60' 'Jetta' 'GTI' 'Challenger' 'A3' 'Arteon' 'Tahoe' 'V60' 'Cruze'\n",
      " 'Murano' 'Crosstrek' 'Taurus' 'X1' 'M-Class' 'Cadenza' 'Sierra 1500'\n",
      " 'HR-V' 'Legacy' 'XTS' 'RDX' 'Regal' 'Corolla' 'MKC' 'TLX' 'XT6' 'QX50'\n",
      " 'Fit' 'WRX STI' 'TSX' 'Stinger' 'Impreza' 'MKZ' 'Matrix' 'Highlander'\n",
      " 'Rio' 'Discovery Sport' 'Q5' 'Q7' 'Sportage' '300' 'Golf Alltrack'\n",
      " 'Sienna' 'Routan' 'Palisade' 'CT5' 'CT6' 'S4' 'Xterra' 'MAZDA3' 'CX-3'\n",
      " 'ILX' 'S60' 'MAZDA5' 'CR-V' 'Trailblazer' 'S5' 'Sentra' 'Golf R' 'CC'\n",
      " 'A8' 'Forester' 'Yukon' 'Outlander' 'A7' 'G80' 'Q3' 'XC70' 'SC 430'\n",
      " '3 Series' 'Focus RS' 'G90' 'QX80' 'A4 Avant' 'GranTurismo'\n",
      " 'Civic Hatchback' 'Equinox' 'Accent' 'A6' 'Kona' 'A5' 'Focus' '9-3'\n",
      " 'Fusion' 'MKX' 'Bentayga' 'Elantra GT' 'Sonata Hybrid' 'S5 Sportback'\n",
      " 'ES 350' 'Wrangler' 'XC60' 'XC90' 'Passport' 'RX' 'Frontier'\n",
      " 'Continental' 'Golf' 'Flex' 'Avalanche' '4Runner' 'Dakota' 'S90'\n",
      " 'Journey' 'Corvette' 'Q50' 'Gladiator' 'Expedition' 'BRZ'\n",
      " '3 Series Gran Turismo' 'M37' 'Genesis' 'Range Rover' 'NX 200t' 'IS'\n",
      " 'Armada' 'GX' 'XF' 'Countryman' 'C-HR' 'X4' 'Forte5' 'Avalon'\n",
      " 'Corolla iM' 'Telluride' 'QX60' 'QX56' 'X5' 'Civic Coupe' 'Venza'\n",
      " '7 Series' 'Tundra' 'MKS' 'Yaris iA' 'Juke' 'Cooper' 'X6' 'Ascent'\n",
      " 'EcoSport' 'NX' 'CLA-Class' 'GS 350' 'Encore' 'Enclave' 'FJ Cruiser'\n",
      " 'Versa Note' 'Stelvio' 'X2' 'X5 M' 'Q8' 'MX-5 Miata' '6 Series' 'CX-30'\n",
      " 'G37' 'XC40' 'Range Rover Sport' 'Cayenne' 'Versa' 'Quest' 'Yukon XL'\n",
      " 'Accord Coupe' 'IS 250' '500X' 'Nautilus' 'JX35' 'Outlander Sport'\n",
      " 'Giulia' 'Yaris' 'MAZDA2' 'Voyager' 'Continental GTC' 'Elise' 'Dart'\n",
      " 'Transit Passenger' 'GLS-Class' 'Corolla Hatchback' 'Lancer'\n",
      " 'Quattroporte' 'Accord Crosstour' 'LaCrosse' 'Azera' 'Discovery' 'Titan'\n",
      " 'Genesis Coupe' 'M4' 'Murano CrossCabriolet' 'M3' 'Ridgeline' 'M5' 'M2'\n",
      " 'GX 470' 'Cooper Clubman' 'RX 330' 'Mustang SVT Cobra' 'Cruze Limited'\n",
      " 'E-Series' 'S-Class Coupe' 'G-Class' 'Corsair' 'GLK-Class'\n",
      " 'Cayenne E-Hybrid' 'Dawn' 'GL-Class' 'Macan' 'Phantom Drophead Coupe'\n",
      " 'Panamera' 'SLR McLaren' 'Huracan' '911' 'Crosstour' 'Urus' 'Ghost' 'xD'\n",
      " 'Flying Spur' 'Continental GT' 'TL' 'Wraith' 'Phantom' 'X7' 'Ghibli'\n",
      " 'Levante' 'G70' 'Rogue Select' 'GLA-Class' 'V90' '370Z' 'NV200'\n",
      " 'CL-Class' 'MKT' '9-5' 'Impreza WRX STI' 'Verano' 'FR-S' 'CTS Coupe'\n",
      " 'Beetle' 'Range Rover Velar' 'RL' 'S-Series' '350Z' 'Range Rover Evoque'\n",
      " '500' 'E-PACE' 'Lancer Evolution' 'ES' 'LX 570' 'ES 330' 'XJ-Series'\n",
      " 'Metris' 'F-TYPE' 'DTS' 'TTS' 'CLS-Class' 'Camry Solara' 'QX30' 'FX35'\n",
      " 'Q70L' 'Thunderbird' 'Sonic' 'Sebring' '718 Cayman' '458 Italia'\n",
      " 'Mustang Shelby GT500' 'GTO' 'Viper' 'G8' 'Sequoia' 'HHR'\n",
      " 'Golf SportWagen' 'S2000' 'Jetta GLI' 'RS 5' 'Explorer Sport Trac' 'S40'\n",
      " 'ATS Coupe' 'Milan' 'A4 Allroad' 'TT' 'S3' 'ProMaster City' 'RS 7'\n",
      " 'GLB-Class' 'RX 300' 'A5 Sportback' 'Cayman' 'LS 500' 'Cobalt' 'SX4'\n",
      " 'CX-7' 'Crown Victoria' 'Entourage' 'Aveo' 'Envision' 'Jetta SportWagen'\n",
      " 'Optima Hybrid' 'Kicks' 'Mirage G4' 'Civic Type R' 'IS 350' 'R-Class'\n",
      " 'Impala Limited' 'RC 300' 'ES 300' '718 Boxster' 'Z4' '86' 'EX35'\n",
      " 'Mulsanne' 'Element' 'RS 3' 'Mirage' 'X4 M' 'XE' 'SLC-Class' 'G35'\n",
      " 'California T' 'SSR' 'Vanquish' 'DB9' 'DBS' 'DB11' 'Vantage' 'Vibe'\n",
      " 'Transit Cargo' 'Cavalier' 'Windstar' 'X3 M' 'Trailblazer EXT'\n",
      " 'Santa Fe XL' 'Caliber' 'Accord Hybrid' 'iA' 'GS' 'Boxster' 'Venue'\n",
      " 'Sable' 'Altima Coupe' 'RC' 'Evora' 'ATS-V Coupe' '599 GTB Fiorano'\n",
      " 'Metris Cargo' 'F12 Berlinetta' 'A-Class' 'CTS-V Coupe' 'R8' 'S8' 'G25'\n",
      " 'Touareg' 'Civic Hybrid' 'Impreza WRX' 'XV Crosstrek Hybrid' 'Carrera GT'\n",
      " 'LR2' 'Outlook' 'Continental Flying Spur' 'Rondo' 'ECHO' 'Express'\n",
      " 'Mountaineer' 'Envoy' 'Eldorado' 'Continental Supersports' 'LeSabre'\n",
      " 'Rendezvous' 'Elantra Touring' '9-3 SportCombi' 'RC F' 'Gallardo'\n",
      " '8 Series' 'LC' 'S80' 'iM' 'Cooper Paceman' 'Avenger' 'Ranger'\n",
      " 'PT Cruiser' 'Mustang Shelby GT350' 'Concorde' 'Allante' 'Torrent'\n",
      " 'Aztek' 'Five Hundred' 'Captiva Sport' 'Aura' 'X6 M' 'M6' 'Q40'\n",
      " 'Veloster Turbo' 'Rio5' 'Alero' '5 Series Gran Turismo' 'Veracruz'\n",
      " 'Equus' 'Cube' 'VUE' 'Lucerne' 'C70' 'ATS-V' 'Roadster' 'Express Cargo'\n",
      " 'Rabbit' 'Cooper Coupe' 'M8' 'F430 Spider' '600LT' '650S' '570S'\n",
      " 'RS 5 Sportback' '720S' '812 Superfast' 'Land Cruiser' 'Superamerica'\n",
      " '612 Scaglietti' 'TT RS' 'Forte Koup' 'Encore GX' '1 Series'\n",
      " 'XF Sportbrake' 'Z3' 'Spark' '4C' '500L' 'CTS-V Wagon' 'LR4'\n",
      " 'Sierra 1500 Limited' 'Solstice' 'Commander' 'Firebird' 'Eclipse'\n",
      " 'Monte Carlo' 'Crossfire' 'Nitro' 'L300' 'DeVille' 'Eos' 'Grand Marquis'\n",
      " 'Town Car' 'Monterey' 'ION' 'Cullinan' 'A6 Allroad' 'STS'\n",
      " 'Regal Sportback' 'tC' 'CLK-Class' 'RC 200t' 'Regal TourX' 'K900'\n",
      " 'Mariner' 'City Express' 'Transit Connect' 'Classic' 'Eclipse Spyder'\n",
      " 'XK-Series' 'Seltos' '488' '570GT' 'GTC4Lusso' 'Sky' 'fortwo' 'xB'\n",
      " 'Rapide' 'Grand Wagoneer' '675LT' 'Tribeca' 'LFA' 'Enzo' 'FF' 'GT'\n",
      " 'Envoy XL' 'AMG GT' 'Grand Prix' 'Tribute' 'Aviator' 'UX' 'Regency'\n",
      " 'V8 Vantage' 'Cutlass Supreme' 'Crosstrek Hybrid' 'Defender' 'SS' 'GT-R'\n",
      " 'Freestyle' 'Galant' 'Savana' 'G6' 'Kizashi' 'Grand Vitara'\n",
      " 'Range Rover Hybrid' 'S-TYPE' 'M30' '3000GT' 'Astra' 'X-TYPE' '9-7X'\n",
      " 'C30' 'LS 430' 'Rodeo' 'LS' 'Veloster N' 'Silverado Classic 1500'\n",
      " 'Savana Cargo' 'S6' 'Bonneville' 'Freestar' 'Rainier' 'Marauder'\n",
      " 'Prowler' 'B9 Tribeca' 'Montego' 'MAZDASPEED6' 'QX4' 'Portofino'\n",
      " 'SLS-Class' 'California' '360 Spider' 'Prizm' 'XL-7' 'Spectra' '550'\n",
      " 'GTC4Lusso T' 'Amanti' 'Century' 'ZDX' 'V70' 'MAZDASPEED3'\n",
      " 'Panamera E-Hybrid' 'Endeavor' 'Lumina' 'Uplander' 'H3'\n",
      " '6 Series Gran Turismo' '626' 'Tiburon' 'Park Avenue' 'Aspen' 'Magnum'\n",
      " 'Escape Hybrid' 'Z3 M' 'M35' 'Jimmy' 'Sierra Classic 1500' 'LX' 'GS 200t'\n",
      " 'Elantra Coupe' 'Stealth' 'Malibu Maxx' 'Caravan' 'Aventador'\n",
      " '430 Scuderia' 'Panamera Hybrid' 'Mark VIII' 'Escalade EXT' 'H3T' 'R32'\n",
      " 'FX50' 'ProMaster' 'CL' '944' 'ILX Hybrid' 'Explorer Sport' 'Celica'\n",
      " 'F430' 'GS 430' 'Murcielago' 'Riviera' 'Intrepid' 'Envoy XUV' 'Fleetwood'\n",
      " 'S-TYPE R' 'Stratus' 'Forenza' 'Verona' 'Equator' 'Taurus X' 'Baja'\n",
      " 'Lancer Sportback' '968' 'Protege5' 'S-10' 'G3' 'Aurora' 'Villager'\n",
      " 'Seville' 'V40' 'Silverado 1500HD' 'V50' 'GS 300' 'C/V' 'Supra'\n",
      " 'RLX Hybrid Sport' 'Montana SV6' 'Raider' 'Neon' 'M56' 'Prelude' 'CR-Z'\n",
      " 'Intrigue' 'Astro Cargo' 'Montana' 'Veyron' 'F-150 Heritage' 'Silhouette'\n",
      " 'Venture' 'Diamante' 'Eighty-Eight' 'RSX' 'Astro' 'Contour' 'Zephyr'\n",
      " 'Grand Am' 'Silverado SS' 'Blackwood' 'Sunfire' 'M45'\n",
      " 'Range Rover Hybrid Plug-in' 'Touareg 2' 'RX-8' 'Escort'\n",
      " 'CTS Sport Wagon' 'LR3' 'Neon SRT-4' 'LX 470' 'Crossfire SRT-6' 'XLR-V'\n",
      " 'ActiveHybrid 3' 'Montero' 'L-Series' 'Fiero' 'Mark LT' 'Borrego'\n",
      " 'B-Series' 'CT4' 'Sierra 2500HD' 'MR2 Spyder' 'Cayenne Hybrid' 'IPL G'\n",
      " 'Sonoma' 'GS F' '9-4X' 'Vitara' 'XLR' 'Safari' '575M' 'Q70 Hybrid'\n",
      " 'Cirrus' 'LS 400' 'EuroVan' 'Bravada' '300M' 'Cabrio' 'Tracker' 'MPV'\n",
      " 'Z4 M' 'Jetta Hybrid' 'Cougar' 'MP4-12C' '300ZX' '1M' '380-Class' 'XG350'\n",
      " 'New Yorker' 'S7' 'i-Series' 'Silverado Classic 1500HD' 'G5'\n",
      " 'ActiveHybrid 7' 'C/K 1500' 'Windstar Cargo' 'Skylark' 'Electra' 'I30'\n",
      " 'Metro' 'Montero Sport' 'Terraza' 'Roadmaster' 'NSX' 'Mark VII' 'LHS'\n",
      " 'Mariner Hybrid' 'Truck' 'Trooper' 'xA' 'F-150 SVT Lightning'\n",
      " '918 Spyder' 'V12 Vanquish' 'Reno' '300-Class' 'Eighty-Eight Royale'\n",
      " 'Civic del Sol' '360' 'Sierra 1500HD' 'Integra' 'Arnage' 'Allroad'\n",
      " 'V70 R' 'Z8' 'V12 Vantage' '960' 'GS Hybrid']\n",
      "['160 hp @ 5,700 RPM' '311 hp @ 6,600 RPM' '310 hp @ 6,800 RPM' ...\n",
      " '420 hp @ 7,000 RPM' '340 hp @ 6,400 RPM' '168 hp @ 5,500 RPM']\n"
     ]
    },
    {
     "name": "stdout",
     "output_type": "stream",
     "text": [
      "[False True]\n",
      "['184 lb-ft @ 2,500 RPM' '280 lb-ft @ 4,800 RPM' '266 lb-ft @ 2,800 RPM'\n",
      " ... '267 lb-ft @ 4,800 RPM' '220 lb-ft @ 3,800 RPM'\n",
      " '177 lb-ft @ 4,500 RPM']\n",
      "['A' 'M' 'CVT' 'Dual Clutch']\n",
      "['FWD' 'AWD' '4WD' 'RWD' '4X2']\n",
      "['73 in' '81.5 in' '78.6 in' '78.5 in' '84.8 in' '71.4 in' '70.9 in'\n",
      " '83.5 in' '73.6 in' '79.6 in' '82.8 in' '85.5 in' '73.8 in' '75 in'\n",
      " '80 in' '70.8 in' '74.6 in' '82.5 in' '73.2 in' '90.2 in' '93.8 in'\n",
      " '81.3 in' '71.8 in' '84.3 in' '80.5 in' '72.8 in' '78.1 in' '90.4 in'\n",
      " '72.4 in' '74.7 in' '69.9 in' '73.7 in' '71.2 in' '83.9 in' '77.2 in'\n",
      " '76.7 in' '74.4 in' '75.2 in' '81.9 in' '81.2 in' '85.6 in' '69 in'\n",
      " '88.5 in' '72 in' '77.5 in' '79.5 in' '72.3 in' '78.9 in' '73.4 in'\n",
      " '79.3 in' '69.2 in' '72.9 in' '72.2 in' '80.3 in' '75.5 in' '70.1 in'\n",
      " '77.7 in' '71.1 in' '71.7 in' '80.8 in' '85.8 in' '72.6 in' '72.5 in'\n",
      " '67.8 in' '81.8 in' '89.3 in' '91.5 in' '82.6 in' '96.8 in' '79.4 in'\n",
      " '79 in' '68.5 in' '83.7 in' '87.5 in' '74 in' '70 in' '70.5 in' '74.9 in'\n",
      " '81.1 in' '79.9 in' '70.7 in' '74.1 in' '85.7 in' '82.1 in' '69.8 in'\n",
      " '80.1 in' '81 in' '74.8 in' '73.1 in' '84.1 in' '78.4 in' '77.3 in'\n",
      " '71 in' '66.7 in' '79.1 in' '82.2 in' '83.3 in' '69.5 in' '75.8 in'\n",
      " '67.9 in' '84.2 in' '87.1 in' '77.8 in' '69.6 in' '70.6 in' '69.1 in'\n",
      " '74.2 in' '71.6 in' '76.2 in' '69.3 in' '83.1 in' '71.3 in' '71.5 in'\n",
      " '75.4 in' '76 in' '80.9 in' '66.9 in' '92.3 in' '78 in' '97 in' '86.1 in'\n",
      " '79.2 in' '82.3 in' '73.9 in' '88.8 in' '83.4 in' '85.4 in' '75.9 in'\n",
      " '93.4 in' '73.3 in' '80.6 in' '77.1 in' '87.4 in' '79.8 in' '78.8 in'\n",
      " '78.3 in' '74.5 in' '84.9 in' '91.8 in' '70.4 in' '86 in' '86.5 in'\n",
      " '81.4 in' '75.7 in' '87.3 in' '84 in' '66.2 in' '82 in' '86.2 in' '67 in'\n",
      " '68.3 in' '69.4 in' '85.2 in' '73.5 in' '77.6 in' '86.7 in' '79.7 in'\n",
      " '69.7 in' '68.9 in' '72.7 in' '87.7 in' '97.4 in' '82.7 in' '78.2 in'\n",
      " '76.1 in' '80.2 in' '68.1 in' '95.7 in' '82.9 in' '75.6 in' '83 in'\n",
      " '82.4 in' '86.4 in' '75.1 in' '88 in' '76.3 in' '77.9 in' '85.9 in'\n",
      " '86.9 in' '83.2 in' '85 in' '71.9 in' '84.4 in' '68.2 in' '88.3 in'\n",
      " '80.4 in' '68.6 in' '70.3 in' '72.1 in' '78.7 in' '81.7 in' '77.4 in'\n",
      " '76.8 in' '68.7 in' '67.6 in' '84.6 in' '74.3 in' '70.2 in' '65.7 in'\n",
      " '--' '67.5 in' '68 in' '85.1 in' '65.6 in' '80.7 in' '98.6 in' '76.6 in'\n",
      " '68.8 in' '76.5 in' '75.3 in' '76.4 in' '77 in' '65.4 in' '67.1 in'\n",
      " '66 in' '62.9 in' '67.3 in' '83.8 in' '67.2 in' '86.3 in' '76.9 in'\n",
      " '61.4 in' '87.6 in' '67.4 in' '66.1 in' '66.5 in' '89.9 in' '66.3 in'\n",
      " '84.5 in' '64.1 in' '87.2 in' '65.9 in' '66.4 in' '65 in' '89.1 in'\n",
      " '98 in' '67.7 in' '66.6 in' '89.2 in' '89.5 in' '64 in' '68.4 in'\n",
      " '66.8 in' '65.3 in' '63.7 in' '81.6 in' '62.6 in']\n"
     ]
    }
   ],
   "source": [
    "#finding all unique values per column to see what values we need to clean\n",
    "columns_that_need_cleaning = ['engine_type','exterior_color','frame_damaged','franchise_dealer','franchise_make','fuel_tank_volume','fuel_type','has_accidents','height','isCab','is_new','length','listing_color','make_name','maximum_seating','model_name','power','salvage','torque','transmission','wheel_system','width']\n",
    "for col in columns_that_need_cleaning:\n",
    "        print(df_cln_2[col].unique())"
   ]
  },
  {
   "cell_type": "code",
   "execution_count": 18,
   "metadata": {
    "scrolled": false
   },
   "outputs": [
    {
     "name": "stdout",
     "output_type": "stream",
     "text": [
      "['15.8 gal' '17.4 gal' '19.4 gal' '22 gal' '24.6 gal' '13.5 gal'\n",
      " '13.2 gal' '15.9 gal' '12.7 gal' '22.5 gal' '21.5 gal' '18.5 gal'\n",
      " '26 gal' '12.4 gal' '19.2 gal' '18.6 gal' '23.2 gal' '24 gal' '16.4 gal'\n",
      " '13.7 gal' '19 gal' '14.5 gal' '14 gal' '18 gal' '16.9 gal' '21 gal'\n",
      " '19.5 gal' '31 gal' '18.8 gal' '16 gal' '16.6 gal' '21.7 gal' '20 gal'\n",
      " '15.3 gal' '22.2 gal' '17.2 gal' '21.1 gal' '16.1 gal' '13 gal'\n",
      " '23.8 gal' '17 gal' '15.1 gal' '19.8 gal' '23 gal' '20.5 gal' '11.9 gal'\n",
      " '14.2 gal' '14.3 gal' '14.8 gal' '17.7 gal' '16.5 gal' '17.8 gal'\n",
      " '15.6 gal' '17.1 gal' '15.5 gal' '10.6 gal' '15.7 gal' '18.1 gal'\n",
      " '20.1 gal' '12.8 gal' '20.3 gal' '21.6 gal' '21.9 gal' '11.4 gal'\n",
      " '36 gal' '16.8 gal' '15.4 gal' '16.3 gal' '28.3 gal' '17.9 gal'\n",
      " '27.7 gal' '13.6 gal' '17.5 gal' '28 gal' '27 gal' '22.4 gal' '20.6 gal'\n",
      " '26.4 gal' '11.6 gal' '11.8 gal' '12 gal' '19.3 gal' '13.1 gal'\n",
      " '10.8 gal' '14.9 gal' '19.1 gal' '12.1 gal' '27.3 gal' '38 gal'\n",
      " '11.3 gal' '32 gal' '10 gal' '23.3 gal' '25 gal' '11.1 gal' '16.2 gal'\n",
      " '23.5 gal' '15 gal' '33 gal' '23.6 gal' '25.4 gal' '33.5 gal' '17.6 gal'\n",
      " '23.7 gal' '25.6 gal' '21.8 gal' '18.4 gal' '10.5 gal' '14.6 gal'\n",
      " '20.4 gal' '14.4 gal' '27.6 gal' '12.2 gal' '22.7 gal' '25.1 gal'\n",
      " '18.3 gal' '12.6 gal' '18.2 gal' '11 gal' '17.3 gal' '9.2 gal' '30 gal'\n",
      " '--' '24.3 gal' '27.8 gal' '28.5 gal' '22.8 gal' '31.5 gal' '34 gal'\n",
      " '8.7 gal' '23.9 gal' '29 gal' '18.7 gal' '20.2 gal' '35 gal' '15.2 gal'\n",
      " '21.4 gal' '16.7 gal' '39 gal' '40.7 gal' '21.2 gal' '8 gal' '12.3 gal'\n",
      " '24.1 gal' '42 gal' '13.3 gal' '7.7 gal' '7.8 gal']\n",
      "['57.6 in' '55.1 in' '70.7 in' '69.9 in' '69.3 in' '65 in' '64.1 in'\n",
      " '58.7 in' '66.5 in' '70.8 in' '70.9 in' '73.6 in' '58.5 in' '73.9 in'\n",
      " '65.3 in' '55.7 in' '67.7 in' '64.5 in' '58.3 in' '57.7 in' '71 in'\n",
      " '76.3 in' '66.1 in' '54.6 in' '74.4 in' '64.8 in' '55.8 in' '69.4 in'\n",
      " '66.3 in' '53.1 in' '66 in' '72.6 in' '56.5 in' '66.2 in' '67.1 in'\n",
      " '65.7 in' '70.6 in' '70.2 in' '67 in' '54.4 in' '75.5 in' '58.9 in'\n",
      " '74 in' '67.9 in' '57.8 in' '69 in' '52.9 in' '67.3 in' '56.8 in'\n",
      " '63.3 in' '58.1 in' '68.9 in' '55.3 in' '66.8 in' '57.4 in' '70.4 in'\n",
      " '56.2 in' '54.2 in' '56.3 in' '67.4 in' '55.9 in' '58 in' '57.9 in'\n",
      " '57.2 in' '68.3 in' '59.6 in' '54.9 in' '68.5 in' '67.5 in' '68.4 in'\n",
      " '57.1 in' '51.8 in' '76.9 in' '75.7 in' '51.2 in' '71.4 in' '48.5 in'\n",
      " '63.5 in' '63 in' '58.2 in' '57.3 in' '69.6 in' '78.8 in' '65.6 in'\n",
      " '55 in' '56.6 in' '57.5 in' '67.8 in' '58.4 in' '73.7 in' '68 in'\n",
      " '63.6 in' '60.7 in' '62.9 in' '77.6 in' '63.2 in' '59.3 in' '59.4 in'\n",
      " '54.3 in' '59 in' '57 in' '62.7 in' '60 in' '70.3 in' '56.7 in' '77.7 in'\n",
      " '69.8 in' '61 in' '70.1 in' '69.1 in' '65.2 in' '55.5 in' '77.2 in'\n",
      " '64.4 in' '59.7 in' '72.7 in' '66.6 in' '54.8 in' '74.9 in' '78.5 in'\n",
      " '60.9 in' '55.6 in' '64.2 in' '64.7 in' '72.5 in' '68.2 in' '62.5 in'\n",
      " '61.5 in' '65.9 in' '75.8 in' '53.3 in' '62.6 in' '56 in' '61.6 in'\n",
      " '54 in' '76.7 in' '68.6 in' '65.1 in' '68.7 in' '54.5 in' '73.8 in'\n",
      " '72.2 in' '55.2 in' '59.2 in' '63.1 in' '67.2 in' '60.8 in' '76.6 in'\n",
      " '71.5 in' '70 in' '75.6 in' '77.4 in' '48.7 in' '77.5 in' '76.1 in'\n",
      " '78.4 in' '76.2 in' '68.1 in' '50.6 in' '65.4 in' '71.9 in' '76.4 in'\n",
      " '71.3 in' '66.4 in' '67.6 in' '56.4 in' '74.2 in' '56.9 in' '63.9 in'\n",
      " '75 in' '66.9 in' '78.1 in' '58.8 in' '73.4 in' '63.4 in' '75.9 in'\n",
      " '69.5 in' '61.8 in' '55.4 in' '71.6 in' '65.5 in' '72 in' '60.5 in'\n",
      " '60.1 in' '59.1 in' '48.8 in' '53.7 in' '62.2 in' '60.4 in' '56.1 in'\n",
      " '64.9 in' '71.7 in' '63.7 in' '53.5 in' '43.9 in' '108.6 in' '72.8 in'\n",
      " '70.5 in' '73.5 in' '74.6 in' '69.7 in' '59.5 in' '83.4 in' '75.3 in'\n",
      " '73 in' '78 in' '61.3 in' '72.3 in' '72.4 in' '61.7 in' '49.3 in'\n",
      " '46.5 in' '51.1 in' '45.9 in' '58.6 in' '50.9 in' '50.8 in' '51 in'\n",
      " '71.1 in' '50.7 in' '66.7 in' '54.1 in' '76 in' '75.1 in' '48.6 in'\n",
      " '53 in' '51.9 in' '49.1 in' '59.8 in' '51.4 in' '54.7 in' '50 in'\n",
      " '74.1 in' '82.4 in' '51.5 in' '76.5 in' '52.8 in' '65.8 in' '64.6 in'\n",
      " '71.8 in' '60.2 in' '52.1 in' '71.2 in' '50.4 in' '47.3 in' '47.6 in'\n",
      " '47.8 in' '68.8 in' '77 in' '53.9 in' '53.2 in' '63.8 in' '49.9 in'\n",
      " '75.2 in' '76.8 in' '78.3 in' '74.3 in' '62.4 in' '--' '99.2 in'\n",
      " '47.7 in' '45.8 in' '52.6 in' '52 in' '61.9 in' '59.9 in' '64 in'\n",
      " '107.7 in' '88 in' '51.3 in' '51.6 in' '50.1 in' '83.6 in' '77.3 in'\n",
      " '48.4 in' '60.6 in' '49 in' '51.7 in' '61.4 in' '84.1 in' '53.6 in'\n",
      " '46.6 in' '48.9 in' '74.8 in' '78.7 in' '52.2 in' '82.6 in' '47.1 in'\n",
      " '47.4 in' '47 in' '50.2 in' '50.3 in' '83.7 in' '46 in' '72.1 in'\n",
      " '52.7 in' '49.2 in' '84.6 in' '84.8 in' '46.3 in' '69.2 in' '79.3 in'\n",
      " '75.4 in' '53.8 in' '47.2 in' '52.3 in' '46.8 in' '48 in' '45.2 in'\n",
      " '44.3 in' '46.7 in' '49.4 in' '77.9 in' '80.2 in' '83.9 in' '82.2 in'\n",
      " '100.7 in' '46.4 in' '73.1 in' '74.5 in' '47.5 in' '49.7 in' '62.8 in'\n",
      " '73.2 in' '64.3 in' '50.5 in' '52.4 in' '49.8 in' '44 in' '82.1 in'\n",
      " '98.7 in' '52.5 in' '49.6 in' '44.7 in' '82.9 in' '101 in' '49.5 in'\n",
      " '77.8 in' '72.9 in' '82.3 in' '77.1 in' '74.7 in' '73.3 in' '100.8 in'\n",
      " '84.3 in' '81.2 in' '82.8 in' '48.1 in' '81.6 in' '78.2 in' '85 in'\n",
      " '80.9 in' '80.7 in' '84.5 in' '62 in' '48.3 in' '46.1 in' '83.2 in'\n",
      " '82.7 in' '48.2 in' '60.3 in' '53.4 in']\n",
      "['193.8 in' '184.8 in' '204.3 in' '203.7 in' '189.8 in' '175.1 in'\n",
      " '166.9 in' '181.1 in' '192.3 in' '166.6 in' '173.4 in' '201.2 in'\n",
      " '188.4 in' '200.8 in' '230 in' '183.3 in' '182.3 in' '192.5 in'\n",
      " '191.1 in' '198.3 in' '210 in' '189.9 in' '182.5 in' '192.6 in'\n",
      " '203.9 in' '176.2 in' '174.7 in' '203.6 in' '188.3 in' '167.6 in'\n",
      " '183.9 in' '184.9 in' '192.8 in' '182 in' '174.5 in' '173 in' '224.9 in'\n",
      " '198.5 in' '198.4 in' '224 in' '191.4 in' '187.4 in' '190.3 in'\n",
      " '231.7 in' '201.3 in' '186.3 in' '179.4 in' '202.8 in' '191.9 in'\n",
      " '203.8 in' '199.4 in' '179.9 in' '179.3 in' '184.5 in' '172.4 in'\n",
      " '180.9 in' '173.8 in' '184.1 in' '200 in' '192.9 in' '212.4 in'\n",
      " '194.5 in' '212.3 in' '185.1 in' '189.5 in' '190.6 in' '179.5 in'\n",
      " '224.3 in' '196.2 in' '189.6 in' '182.8 in' '176.9 in' '212.7 in'\n",
      " '185.5 in' '205 in' '190.9 in' '195.5 in' '188.8 in' '196.1 in'\n",
      " '191.3 in' '160.1 in' '183.5 in' '178.1 in' '177.3 in' '201.4 in'\n",
      " '202.9 in' '191.5 in' '181.8 in' '192.1 in' '209.3 in' '229 in'\n",
      " '162.8 in' '202.5 in' '159.6 in' '163 in' '165.2 in' '194.6 in'\n",
      " '178.7 in' '183.4 in' '197.2 in' '182.6 in' '185.7 in' '185 in'\n",
      " '182.2 in' '168 in' '182.7 in' '197.9 in' '175.4 in' '190.4 in'\n",
      " '190.7 in' '202 in' '229.9 in' '185.3 in' '189 in' '181 in' '175.8 in'\n",
      " '193.1 in' '189.1 in' '232.9 in' '195.7 in' '229.8 in' '169.1 in'\n",
      " '188.5 in' '187.2 in' '200.9 in' '186.8 in' '179.1 in' '190.2 in'\n",
      " '179.2 in' '229.5 in' '184.4 in' '161.6 in' '222.9 in' '185.6 in'\n",
      " '204 in' '183.6 in' '183.1 in' '182.1 in' '193.9 in' '171.9 in'\n",
      " '172.6 in' '180.7 in' '185.9 in' '199.6 in' '176.4 in' '231.9 in'\n",
      " '198.6 in' '174.8 in' '189.2 in' '180.2 in' '200.2 in' '205.8 in'\n",
      " '180 in' '197.1 in' '198 in' '180.3 in' '168.3 in' '181.9 in' '175.6 in'\n",
      " '181.5 in' '178.3 in' '190 in' '191.8 in' '199.8 in' '180.6 in'\n",
      " '168.4 in' '188.9 in' '202.2 in' '187.8 in' '173.2 in' '196.5 in'\n",
      " '172.8 in' '200.6 in' '191.6 in' '177.8 in' '184.6 in' '204.9 in'\n",
      " '208.3 in' '185.2 in' '173.6 in' '192.2 in' '177.9 in' '183.8 in'\n",
      " '162 in' '168.7 in' '193.5 in' '189.7 in' '194.2 in' '164 in' '203.2 in'\n",
      " '182.9 in' '202.4 in' '170.9 in' '188.1 in' '175.5 in' '187.1 in'\n",
      " '224.4 in' '174.3 in' '186.7 in' '184.2 in' '193.3 in' '159.3 in'\n",
      " '152.8 in' '167 in' '205.6 in' '195 in' '172 in' '191.7 in' '190.5 in'\n",
      " '175.9 in' '205.5 in' '204.1 in' '201.8 in' '176.5 in' '221.3 in'\n",
      " '197.5 in' '194.9 in' '215 in' '200.1 in' '192.4 in' '237.9 in'\n",
      " '199.9 in' '193.6 in' '241.8 in' '218 in' '221.9 in' '194.1 in'\n",
      " '230.2 in' '166.7 in' '194.7 in' '202.1 in' '200.3 in' '191 in'\n",
      " '196.8 in' '193.4 in' '183.7 in' '208.9 in' '184.3 in' '164.3 in'\n",
      " '198.8 in' '181.3 in' '167.2 in' '161.8 in' '186.1 in' '171.2 in'\n",
      " '195.6 in' '169.3 in' '171.3 in' '195.3 in' '170.5 in' '228.9 in'\n",
      " '196.9 in' '207.4 in' '206.5 in' '179 in' '176 in' '193.2 in' '206.6 in'\n",
      " '183 in' '178.8 in' '171.7 in' '197.7 in' '162.4 in' '146.2 in'\n",
      " '194.3 in' '205.3 in' '161.3 in' '171.6 in' '200.4 in' '157.4 in'\n",
      " '228.7 in' '172.2 in' '192.7 in' '196.6 in' '167.5 in' '160 in'\n",
      " '163.7 in' '154.1 in' '164.9 in' '195.4 in' '174.2 in' '192 in'\n",
      " '201.9 in' '170.4 in' '161.7 in' '168.2 in' '196.4 in' '243.7 in'\n",
      " '229.4 in' '155.5 in' '149 in' '235.5 in' '201.6 in' '225.5 in'\n",
      " '200.7 in' '208.1 in' '207.2 in' '193.7 in' '224.6 in' '151.9 in'\n",
      " '190.1 in' '188.2 in' '186.2 in' '180.5 in' '171.5 in' '216.7 in'\n",
      " '166.8 in' '177 in' '222.3 in' '169.8 in' '178.2 in' '161.4 in'\n",
      " '208.5 in' '220.9 in' '190.8 in' '202.6 in' '176.8 in' '212.6 in'\n",
      " '154.7 in' '208.6 in' '177.5 in' '194 in' '207.9 in' '220.8 in'\n",
      " '203.3 in' '219.3 in' '177.1 in' '178.5 in' '197 in' '180.1 in'\n",
      " '194.8 in' '173.9 in' '194.4 in' '184.7 in' '206.9 in' '191.2 in'\n",
      " '228.1 in' '207.6 in' '168.8 in' '195.1 in' '169.6 in' '174.6 in'\n",
      " '172.1 in' '144.4 in' '169 in' '198.9 in' '160.7 in' '188 in' '237.6 in'\n",
      " '195.9 in' '201.7 in' '207.1 in' '209 in' '165 in' '187 in' '196.7 in'\n",
      " '176.3 in' '187.5 in' '207 in' '206 in' '159 in' '207.7 in' '178.6 in'\n",
      " '195.2 in' '205.1 in' '175 in' '229.3 in' '150.9 in' '179.6 in'\n",
      " '162.2 in' '186 in' '210.2 in' '158 in' '176.6 in' '164.7 in' '186.5 in'\n",
      " '208.7 in' '197.3 in' '182.4 in' '204.4 in' '145.6 in' '159.7 in'\n",
      " '204.7 in' '206.1 in' '184 in' '222.4 in' '239.6 in' '212 in' '152.7 in'\n",
      " '227.7 in' '169.5 in' '201 in' '223.8 in' '--' '176.7 in' '179.7 in'\n",
      " '173.5 in' '189.3 in' '203 in' '187.6 in' '173.1 in' '181.7 in'\n",
      " '170.7 in' '231.8 in' '186.4 in' '187.9 in' '151.1 in' '219.5 in'\n",
      " '169.9 in' '139.6 in' '193 in' '149.4 in' '263.9 in' '187.3 in'\n",
      " '196.3 in' '150.6 in' '180.4 in' '228.5 in' '185.8 in' '186.6 in'\n",
      " '219.9 in' '211.2 in' '172.3 in' '201.5 in' '207.8 in' '183.2 in'\n",
      " '171 in' '225.9 in' '166.1 in' '177.4 in' '227.9 in' '250.5 in'\n",
      " '161.5 in' '213.2 in' '165.9 in' '197.6 in' '197.4 in' '175.2 in'\n",
      " '167.8 in' '171.1 in' '181.6 in' '206.2 in' '188.7 in' '163.3 in'\n",
      " '244.1 in' '179.8 in' '165.3 in' '150.1 in' '220.6 in' '227.5 in'\n",
      " '242.8 in' '168.9 in' '231 in' '177.2 in' '209.1 in' '174.4 in'\n",
      " '177.6 in' '148.8 in' '206.7 in' '167.3 in' '211.4 in' '203.1 in'\n",
      " '156.7 in' '199.1 in' '180.8 in' '147 in' '219.4 in' '155.3 in'\n",
      " '224.1 in' '235.8 in' '165.8 in' '185.4 in' '178.4 in' '214.7 in'\n",
      " '178.9 in' '165.4 in' '171.4 in' '159.4 in' '144.7 in' '218.3 in'\n",
      " '155 in' '157 in' '250.3 in' '157.2 in' '168.1 in' '159.8 in' '221.6 in'\n",
      " '174.1 in' '211.1 in' '215.4 in' '163.1 in' '206.8 in' '174.9 in'\n",
      " '169.7 in' '201.1 in' '164.5 in' '155.4 in' '166.5 in' '200.5 in'\n",
      " '232.1 in' '176.1 in' '166 in' '236.7 in' '247.8 in' '168.5 in' '174 in'\n",
      " '209.8 in' '170.3 in' '161.1 in' '106.1 in' '163.2 in' '169.4 in'\n",
      " '167.7 in' '163.8 in' '199.2 in' '189.4 in' '211.9 in' '154.3 in'\n",
      " '160.5 in' '243.9 in' '226.2 in' '164.8 in' '225.8 in' '172.5 in'\n",
      " '208.4 in' '199.3 in' '198.1 in' '167.4 in' '167.9 in' '249.2 in'\n",
      " '218.5 in' '205.9 in' '230.1 in' '153.5 in' '163.5 in' '159.1 in'\n",
      " '213.1 in' '215.1 in' '178 in' '217.5 in' '175.7 in' '196 in' '207.3 in'\n",
      " '195.8 in' '215.3 in' '198.2 in' '218.8 in' '166.2 in' '158.5 in'\n",
      " '146.8 in' '229.6 in' '239 in' '217.8 in' '154.9 in' '224.2 in'\n",
      " '205.7 in' '152.5 in' '172.9 in' '143.1 in' '155.8 in' '172.7 in'\n",
      " '247.6 in' '222 in' '175.3 in' '236 in' '158.1 in' '224.5 in' '266.1 in'\n",
      " '162.9 in' '250.4 in' '188.6 in' '143.9 in' '202.7 in' '225.1 in'\n",
      " '152 in' '223.3 in' '220.1 in' '157.3 in' '202.3 in' '247.9 in'\n",
      " '237.2 in' '157.1 in' '148 in' '177.7 in' '164.4 in' '186.9 in' '199 in'\n",
      " '170.2 in' '156.1 in' '165.1 in' '221.4 in' '157.9 in' '218.9 in'\n",
      " '155.7 in' '206.3 in' '211.8 in' '243.2 in' '199.7 in' '157.5 in'\n",
      " '220.2 in' '173.7 in' '181.2 in' '153 in' '211.5 in' '222.1 in'\n",
      " '241.2 in' '246.6 in' '210.7 in' '228.2 in' '214.8 in' '237.3 in'\n",
      " '221.7 in' '151.8 in' '236.4 in' '170.1 in' '155.9 in' '214.1 in'\n",
      " '249 in' '197.8 in' '160.4 in' '227.6 in' '161.9 in' '246.7 in'\n",
      " '229.7 in' '204.8 in' '220.3 in' '239.7 in' '209.7 in' '241.3 in'\n",
      " '215.8 in' '142.8 in' '164.6 in' '152.6 in' '205.4 in' '238.9 in'\n",
      " '208 in' '147.2 in' '205.2 in' '226.9 in' '227.2 in' '147.7 in'\n",
      " '212.2 in' '207.5 in']\n",
      "['5 seats' '4 seats' '8 seats' '7 seats' '6 seats' '2 seats' '3 seats'\n",
      " '15 seats' '12 seats' '9 seats' '--' '10 seats']\n",
      "['73 in' '81.5 in' '78.6 in' '78.5 in' '84.8 in' '71.4 in' '70.9 in'\n",
      " '83.5 in' '73.6 in' '79.6 in' '82.8 in' '85.5 in' '73.8 in' '75 in'\n",
      " '80 in' '70.8 in' '74.6 in' '82.5 in' '73.2 in' '90.2 in' '93.8 in'\n",
      " '81.3 in' '71.8 in' '84.3 in' '80.5 in' '72.8 in' '78.1 in' '90.4 in'\n",
      " '72.4 in' '74.7 in' '69.9 in' '73.7 in' '71.2 in' '83.9 in' '77.2 in'\n",
      " '76.7 in' '74.4 in' '75.2 in' '81.9 in' '81.2 in' '85.6 in' '69 in'\n",
      " '88.5 in' '72 in' '77.5 in' '79.5 in' '72.3 in' '78.9 in' '73.4 in'\n",
      " '79.3 in' '69.2 in' '72.9 in' '72.2 in' '80.3 in' '75.5 in' '70.1 in'\n",
      " '77.7 in' '71.1 in' '71.7 in' '80.8 in' '85.8 in' '72.6 in' '72.5 in'\n",
      " '67.8 in' '81.8 in' '89.3 in' '91.5 in' '82.6 in' '96.8 in' '79.4 in'\n",
      " '79 in' '68.5 in' '83.7 in' '87.5 in' '74 in' '70 in' '70.5 in' '74.9 in'\n",
      " '81.1 in' '79.9 in' '70.7 in' '74.1 in' '85.7 in' '82.1 in' '69.8 in'\n",
      " '80.1 in' '81 in' '74.8 in' '73.1 in' '84.1 in' '78.4 in' '77.3 in'\n",
      " '71 in' '66.7 in' '79.1 in' '82.2 in' '83.3 in' '69.5 in' '75.8 in'\n",
      " '67.9 in' '84.2 in' '87.1 in' '77.8 in' '69.6 in' '70.6 in' '69.1 in'\n",
      " '74.2 in' '71.6 in' '76.2 in' '69.3 in' '83.1 in' '71.3 in' '71.5 in'\n",
      " '75.4 in' '76 in' '80.9 in' '66.9 in' '92.3 in' '78 in' '97 in' '86.1 in'\n",
      " '79.2 in' '82.3 in' '73.9 in' '88.8 in' '83.4 in' '85.4 in' '75.9 in'\n",
      " '93.4 in' '73.3 in' '80.6 in' '77.1 in' '87.4 in' '79.8 in' '78.8 in'\n",
      " '78.3 in' '74.5 in' '84.9 in' '91.8 in' '70.4 in' '86 in' '86.5 in'\n",
      " '81.4 in' '75.7 in' '87.3 in' '84 in' '66.2 in' '82 in' '86.2 in' '67 in'\n",
      " '68.3 in' '69.4 in' '85.2 in' '73.5 in' '77.6 in' '86.7 in' '79.7 in'\n",
      " '69.7 in' '68.9 in' '72.7 in' '87.7 in' '97.4 in' '82.7 in' '78.2 in'\n",
      " '76.1 in' '80.2 in' '68.1 in' '95.7 in' '82.9 in' '75.6 in' '83 in'\n",
      " '82.4 in' '86.4 in' '75.1 in' '88 in' '76.3 in' '77.9 in' '85.9 in'\n",
      " '86.9 in' '83.2 in' '85 in' '71.9 in' '84.4 in' '68.2 in' '88.3 in'\n",
      " '80.4 in' '68.6 in' '70.3 in' '72.1 in' '78.7 in' '81.7 in' '77.4 in'\n",
      " '76.8 in' '68.7 in' '67.6 in' '84.6 in' '74.3 in' '70.2 in' '65.7 in'\n",
      " '--' '67.5 in' '68 in' '85.1 in' '65.6 in' '80.7 in' '98.6 in' '76.6 in'\n",
      " '68.8 in' '76.5 in' '75.3 in' '76.4 in' '77 in' '65.4 in' '67.1 in'\n",
      " '66 in' '62.9 in' '67.3 in' '83.8 in' '67.2 in' '86.3 in' '76.9 in'\n",
      " '61.4 in' '87.6 in' '67.4 in' '66.1 in' '66.5 in' '89.9 in' '66.3 in'\n",
      " '84.5 in' '64.1 in' '87.2 in' '65.9 in' '66.4 in' '65 in' '89.1 in'\n",
      " '98 in' '67.7 in' '66.6 in' '89.2 in' '89.5 in' '64 in' '68.4 in'\n"
     ]
    },
    {
     "name": "stdout",
     "output_type": "stream",
     "text": [
      " '66.8 in' '65.3 in' '63.7 in' '81.6 in' '62.6 in']\n"
     ]
    }
   ],
   "source": [
    "#finding all unique values per column to see what values we need to clean\n",
    "columns_that_need_cleaning_2 = ['fuel_tank_volume','height','length','maximum_seating','width',]\n",
    "for col in columns_that_need_cleaning_2:\n",
    "        print(df_cln_2[col].unique())"
   ]
  },
  {
   "cell_type": "markdown",
   "metadata": {},
   "source": [
    "Regarding fuel_tank_volume and maximum_seating, we can see that there appears to be a pattern in the suffixes, \"gal\" and \"seats\" accordingly. We will now remove them and then convert all values to numeric."
   ]
  },
  {
   "cell_type": "code",
   "execution_count": 19,
   "metadata": {
    "scrolled": false
   },
   "outputs": [],
   "source": [
    "#removing unecesary string values in columns\n",
    "#then cleaning up any values that contain '--' and replacing it with NaN\n",
    "#Lastly, converting the value first to a string type and then to a float type\n",
    "\n",
    "df_cln_2['fuel_tank_volume']=df_cln_2['fuel_tank_volume'].astype(str).str.replace(' gal', '').replace('--',np.NaN).astype(float)\n",
    "df_cln_2['height']=df_cln_2['height'].astype(str).str.replace(' in', '').replace('--',np.NaN).astype(float)\n",
    "df_cln_2['length']=df_cln_2['height'].astype(str).str.replace(' in', '').replace('--',np.NaN).astype(float)\n",
    "df_cln_2['maximum_seating']=df_cln_2['maximum_seating'].astype(str).str.replace(' seats', '').replace('--',np.NaN).astype(float)\n",
    "df_cln_2['width']=df_cln_2['width'].astype(str).str.replace(' in', '').replace('--',np.NaN).astype(float)"
   ]
  },
  {
   "cell_type": "code",
   "execution_count": 20,
   "metadata": {
    "scrolled": false
   },
   "outputs": [
    {
     "name": "stdout",
     "output_type": "stream",
     "text": [
      "<class 'pandas.core.frame.DataFrame'>\n",
      "Int64Index: 697989 entries, 38 to 3000039\n",
      "Data columns (total 35 columns):\n",
      " #   Column                Non-Null Count   Dtype  \n",
      "---  ------                --------------   -----  \n",
      " 0   vin                   697989 non-null  object \n",
      " 1   body_type             697989 non-null  object \n",
      " 2   city                  697989 non-null  object \n",
      " 3   city_fuel_economy     697989 non-null  float64\n",
      " 4   daysonmarket          697989 non-null  int64  \n",
      " 5   engine_displacement   697989 non-null  float64\n",
      " 6   engine_type           697989 non-null  object \n",
      " 7   exterior_color        697989 non-null  object \n",
      " 8   frame_damaged         697989 non-null  object \n",
      " 9   franchise_dealer      697989 non-null  bool   \n",
      " 10  franchise_make        697989 non-null  object \n",
      " 11  fuel_tank_volume      697819 non-null  float64\n",
      " 12  fuel_type             697989 non-null  object \n",
      " 13  has_accidents         697989 non-null  object \n",
      " 14  height                697882 non-null  float64\n",
      " 15  highway_fuel_economy  697989 non-null  float64\n",
      " 16  horsepower            697989 non-null  float64\n",
      " 17  isCab                 697989 non-null  object \n",
      " 18  is_new                697989 non-null  bool   \n",
      " 19  length                697882 non-null  float64\n",
      " 20  listing_color         697989 non-null  object \n",
      " 21  make_name             697989 non-null  object \n",
      " 22  maximum_seating       697884 non-null  float64\n",
      " 23  mileage               697989 non-null  float64\n",
      " 24  model_name            697989 non-null  object \n",
      " 25  owner_count           697989 non-null  float64\n",
      " 26  power                 697989 non-null  object \n",
      " 27  price                 697989 non-null  float64\n",
      " 28  salvage               697989 non-null  object \n",
      " 29  seller_rating         697989 non-null  float64\n",
      " 30  torque                697989 non-null  object \n",
      " 31  transmission          697989 non-null  object \n",
      " 32  wheel_system          697989 non-null  object \n",
      " 33  width                 697885 non-null  float64\n",
      " 34  year                  697989 non-null  int64  \n",
      "dtypes: bool(2), float64(13), int64(2), object(18)\n",
      "memory usage: 182.4+ MB\n",
      "None\n"
     ]
    }
   ],
   "source": [
    "#doing a quick profile on the subsetted columns\n",
    "print(df_cln_2.info())"
   ]
  },
  {
   "cell_type": "markdown",
   "metadata": {},
   "source": [
    "We can now see that all of our column values have been adjusted to the correct datatypes. We will next proceed with cleaning up the remainder of our data attributes. A quick count on our datatypes shows us that we still have 19 categorical values, 14 numerical types and 2 booleans (true/false) left to work wikth. Since our ultimate goal is doing a regression and one classification model, we will next work on trimming down our 'object' categorical data types."
   ]
  },
  {
   "cell_type": "code",
   "execution_count": 21,
   "metadata": {
    "scrolled": true
   },
   "outputs": [
    {
     "name": "stdout",
     "output_type": "stream",
     "text": [
      "object     18\n",
      "float64    13\n",
      "int64       2\n",
      "bool        2\n",
      "dtype: int64\n",
      "---------------------------------------------\n",
      "Index(['vin', 'body_type', 'city', 'engine_type', 'exterior_color',\n",
      "       'frame_damaged', 'franchise_make', 'fuel_type', 'has_accidents',\n",
      "       'isCab', 'listing_color', 'make_name', 'model_name', 'power', 'salvage',\n",
      "       'torque', 'transmission', 'wheel_system'],\n",
      "      dtype='object')\n"
     ]
    }
   ],
   "source": [
    "#count of datatypes in current dataframe.\n",
    "print(df_cln_2.dtypes.value_counts())\n",
    "print(\"---------------------------------------------\")\n",
    "#showing only the object type columns\n",
    "print(df_cln_2.select_dtypes(include='object').columns)"
   ]
  },
  {
   "cell_type": "markdown",
   "metadata": {},
   "source": [
    "After the team decided to choose 'body_type' as main the main classification term. We decided to create a final dataframe with only the attributes we found useful for our model which excludes:\n",
    "- **'vin'**: acts as primary index but not useful for modeling\n",
    "<br>\n",
    "- **'city'**: no model of ours will require geographic features, also since there is not state or zip attributes, it is ambiguous\n",
    "<br>\n",
    "- **'engine_type'**: use for EDA but 'horsepower' is the continous version of this attribute\n",
    "<br>\n",
    "- **'franchise_dealer'**: not useful for our model \n",
    "<br>\n",
    "- **'franchise_make'**: same as 'make_name' which has too many levels as a categorical value and not necessary for our predictin model\n",
    "<br>\n",
    "- **'fuel_tank_volume'**: \n",
    "<br>\n",
    "- **'fuel_type'**: \n",
    "<br>\n",
    "- **'height'**: \n",
    "<br>\n",
    "- **'isCab'**:\n",
    "<br>\n",
    "- **'listing_color'**: \n",
    "<br>\n",
    "- **'make_name'**: \n",
    "<br>\n",
    "- **'model_name'**: \n",
    "<br>\n",
    "- **'power'**: 'horsepower' attribute will be used instead\n",
    "<br>\n",
    "- **'salvage'**: the value that is associated with depreciation number which is more of accounting. In real world, we pay what is the market value of the car.\n",
    "<br>\n",
    "- **'torque'**:  'horsepower' attribute will be used instead\n",
    "<br>\n",
    "- **'transmission'**: \n",
    "<br>\n",
    "- **'wheel_system'**: "
   ]
  },
  {
   "cell_type": "code",
   "execution_count": 22,
   "metadata": {
    "scrolled": true
   },
   "outputs": [
    {
     "name": "stdout",
     "output_type": "stream",
     "text": [
      "<class 'pandas.core.frame.DataFrame'>\n",
      "Int64Index: 697989 entries, 38 to 3000039\n",
      "Data columns (total 35 columns):\n",
      " #   Column                Non-Null Count   Dtype  \n",
      "---  ------                --------------   -----  \n",
      " 0   vin                   697989 non-null  object \n",
      " 1   body_type             697989 non-null  object \n",
      " 2   city                  697989 non-null  object \n",
      " 3   city_fuel_economy     697989 non-null  float64\n",
      " 4   daysonmarket          697989 non-null  int64  \n",
      " 5   engine_displacement   697989 non-null  float64\n",
      " 6   engine_type           697989 non-null  object \n",
      " 7   exterior_color        697989 non-null  object \n",
      " 8   frame_damaged         697989 non-null  object \n",
      " 9   franchise_dealer      697989 non-null  bool   \n",
      " 10  franchise_make        697989 non-null  object \n",
      " 11  fuel_tank_volume      697819 non-null  float64\n",
      " 12  fuel_type             697989 non-null  object \n",
      " 13  has_accidents         697989 non-null  object \n",
      " 14  height                697882 non-null  float64\n",
      " 15  highway_fuel_economy  697989 non-null  float64\n",
      " 16  horsepower            697989 non-null  float64\n",
      " 17  isCab                 697989 non-null  object \n",
      " 18  is_new                697989 non-null  bool   \n",
      " 19  length                697882 non-null  float64\n",
      " 20  listing_color         697989 non-null  object \n",
      " 21  make_name             697989 non-null  object \n",
      " 22  maximum_seating       697884 non-null  float64\n",
      " 23  mileage               697989 non-null  float64\n",
      " 24  model_name            697989 non-null  object \n",
      " 25  owner_count           697989 non-null  float64\n",
      " 26  power                 697989 non-null  object \n",
      " 27  price                 697989 non-null  float64\n",
      " 28  salvage               697989 non-null  object \n",
      " 29  seller_rating         697989 non-null  float64\n",
      " 30  torque                697989 non-null  object \n",
      " 31  transmission          697989 non-null  object \n",
      " 32  wheel_system          697989 non-null  object \n",
      " 33  width                 697885 non-null  float64\n",
      " 34  year                  697989 non-null  int64  \n",
      "dtypes: bool(2), float64(13), int64(2), object(18)\n",
      "memory usage: 182.4+ MB\n"
     ]
    }
   ],
   "source": [
    "df_cln_2.info()"
   ]
  },
  {
   "cell_type": "code",
   "execution_count": 37,
   "metadata": {
    "scrolled": false
   },
   "outputs": [
    {
     "name": "stdout",
     "output_type": "stream",
     "text": [
      "<class 'pandas.core.frame.DataFrame'>\n",
      "Int64Index: 697989 entries, 38 to 3000039\n",
      "Data columns (total 18 columns):\n",
      " #   Column                Non-Null Count   Dtype  \n",
      "---  ------                --------------   -----  \n",
      " 0   body_type             697989 non-null  object \n",
      " 1   city_fuel_economy     697989 non-null  float64\n",
      " 2   daysonmarket          697989 non-null  int64  \n",
      " 3   engine_displacement   697989 non-null  float64\n",
      " 4   frame_damaged         697989 non-null  object \n",
      " 5   has_accidents         697989 non-null  object \n",
      " 6   height                697882 non-null  float64\n",
      " 7   highway_fuel_economy  697989 non-null  float64\n",
      " 8   horsepower            697989 non-null  float64\n",
      " 9   is_new                697989 non-null  bool   \n",
      " 10  length                697882 non-null  float64\n",
      " 11  maximum_seating       697884 non-null  float64\n",
      " 12  mileage               697989 non-null  float64\n",
      " 13  owner_count           697989 non-null  float64\n",
      " 14  price                 697989 non-null  float64\n",
      " 15  seller_rating         697989 non-null  float64\n",
      " 16  width                 697885 non-null  float64\n",
      " 17  year                  697989 non-null  int64  \n",
      "dtypes: bool(1), float64(12), int64(2), object(3)\n",
      "memory usage: 96.5+ MB\n",
      "None\n",
      "float64    12\n",
      "object      3\n",
      "int64       2\n",
      "bool        1\n",
      "dtype: int64\n"
     ]
    }
   ],
   "source": [
    "#creating final df for analysis\n",
    "df_final = df_cln_2.iloc[:, np.r_[1,3:6,8,13,14:17,18:20,22:24,25,27,29,33:35]]\n",
    "print(df_final.info())\n",
    "print(df_final.dtypes.value_counts())"
   ]
  },
  {
   "cell_type": "markdown",
   "metadata": {},
   "source": [
    "### Simple Statistics"
   ]
  },
  {
   "cell_type": "markdown",
   "metadata": {},
   "source": [
    "##### Look at the final data, we have total 18 columns, their data types are: bool(1), float64(12), int64(2), object(3).\n",
    "\n",
    "As our main goal is to predict car price and car type,in the simple statistics we need to find out the 5 most significant attributes that affect the car price, which's divided to below 5 steps:\n",
    "1.Check the data range, mode, mean, median, variance and counts, etc\n",
    "2.Check data normality\n",
    "3.Correlation check\n",
    "4.With the result from correlation checking,the 5 most significan attributes are horsepower(0.629),mileage(-0.43),highway_fuel_economy(-0.401), year(0.371) and engine_displacement(0.427)\n",
    "The intresting thing is that seller_rating and owner_count don't show strong relationship to car price from correlation checking, they're only -0.219 and -0.035\n",
    "![title](img/correlationPic.png)"
   ]
  },
  {
   "cell_type": "markdown",
   "metadata": {},
   "source": [
    "#### Median, Standard Deviation, Mean in a Pandas Dataframe"
   ]
  },
  {
   "cell_type": "code",
   "execution_count": 42,
   "metadata": {},
   "outputs": [
    {
     "data": {
      "text/html": [
       "<div>\n",
       "<style scoped>\n",
       "    .dataframe tbody tr th:only-of-type {\n",
       "        vertical-align: middle;\n",
       "    }\n",
       "\n",
       "    .dataframe tbody tr th {\n",
       "        vertical-align: top;\n",
       "    }\n",
       "\n",
       "    .dataframe thead th {\n",
       "        text-align: right;\n",
       "    }\n",
       "</style>\n",
       "<table border=\"1\" class=\"dataframe\">\n",
       "  <thead>\n",
       "    <tr style=\"text-align: right;\">\n",
       "      <th></th>\n",
       "      <th>index</th>\n",
       "      <th>price</th>\n",
       "    </tr>\n",
       "  </thead>\n",
       "  <tbody>\n",
       "    <tr>\n",
       "      <th>0</th>\n",
       "      <td>median</td>\n",
       "      <td>21700.000000</td>\n",
       "    </tr>\n",
       "    <tr>\n",
       "      <th>1</th>\n",
       "      <td>std</td>\n",
       "      <td>15878.458032</td>\n",
       "    </tr>\n",
       "    <tr>\n",
       "      <th>2</th>\n",
       "      <td>mean</td>\n",
       "      <td>24434.421728</td>\n",
       "    </tr>\n",
       "  </tbody>\n",
       "</table>\n",
       "</div>"
      ],
      "text/plain": [
       "    index         price\n",
       "0  median  21700.000000\n",
       "1     std  15878.458032\n",
       "2    mean  24434.421728"
      ]
     },
     "execution_count": 42,
     "metadata": {},
     "output_type": "execute_result"
    }
   ],
   "source": [
    "descr = df_final['price'].aggregate([np.median, np.std, np.mean]).reset_index()\n",
    "descr"
   ]
  },
  {
   "cell_type": "markdown",
   "metadata": {},
   "source": [
    "#### Inter quartile range"
   ]
  },
  {
   "cell_type": "code",
   "execution_count": 43,
   "metadata": {},
   "outputs": [
    {
     "data": {
      "text/plain": [
       "25%    16230.0\n",
       "50%    21700.0\n",
       "75%    29999.0\n",
       "Name: price, dtype: float64"
      ]
     },
     "execution_count": 43,
     "metadata": {},
     "output_type": "execute_result"
    }
   ],
   "source": [
    "df_final.describe()['price'][['25%', '50%', '75%']]"
   ]
  },
  {
   "cell_type": "code",
   "execution_count": 44,
   "metadata": {},
   "outputs": [
    {
     "name": "stdout",
     "output_type": "stream",
     "text": [
      "body_type               697989\n",
      "city_fuel_economy       697989\n",
      "daysonmarket            697989\n",
      "engine_displacement     697989\n",
      "frame_damaged           697989\n",
      "has_accidents           697989\n",
      "height                  697882\n",
      "highway_fuel_economy    697989\n",
      "horsepower              697989\n",
      "is_new                  697989\n",
      "length                  697882\n",
      "maximum_seating         697884\n",
      "mileage                 697989\n",
      "owner_count             697989\n",
      "price                   697989\n",
      "seller_rating           697989\n",
      "width                   697885\n",
      "year                    697989\n",
      "dtype: int64\n"
     ]
    }
   ],
   "source": [
    "print(df_final.count())"
   ]
  },
  {
   "cell_type": "code",
   "execution_count": 45,
   "metadata": {},
   "outputs": [
    {
     "data": {
      "text/plain": [
       "667"
      ]
     },
     "execution_count": 45,
     "metadata": {},
     "output_type": "execute_result"
    }
   ],
   "source": [
    "#check the count of new cars\n",
    "df_final['is_new'].values.sum() "
   ]
  },
  {
   "cell_type": "code",
   "execution_count": 46,
   "metadata": {},
   "outputs": [
    {
     "data": {
      "text/plain": [
       "697322"
      ]
     },
     "execution_count": 46,
     "metadata": {},
     "output_type": "execute_result"
    }
   ],
   "source": [
    "#check the count of used cars\n",
    "(~df_final['is_new']).values.sum()"
   ]
  },
  {
   "cell_type": "markdown",
   "metadata": {},
   "source": [
    "#### Check the number of different types'cars that have accidents or no accidents, total 837 cars have accidents. Suv/Crossover and Sedan cars have higher numbers of accidents, as their count are larger too. Maybe people love SUV and Sedan cars more than others."
   ]
  },
  {
   "cell_type": "code",
   "execution_count": 47,
   "metadata": {},
   "outputs": [
    {
     "data": {
      "text/plain": [
       "84706"
      ]
     },
     "execution_count": 47,
     "metadata": {},
     "output_type": "execute_result"
    }
   ],
   "source": [
    "#check the count of cars have accidents\n",
    "df_final['has_accidents'].values.sum() "
   ]
  },
  {
   "cell_type": "code",
   "execution_count": 48,
   "metadata": {},
   "outputs": [
    {
     "data": {
      "text/plain": [
       "<seaborn.axisgrid.FacetGrid at 0x1e4c7321dc0>"
      ]
     },
     "execution_count": 48,
     "metadata": {},
     "output_type": "execute_result"
    },
    {
     "data": {
      "image/png": "[encoded data removed]",
      "text/plain": [
       "<Figure size 475.5x360 with 1 Axes>"
      ]
     },
     "metadata": {
      "needs_background": "light"
     },
     "output_type": "display_data"
    }
   ],
   "source": [
    "#Visulize the number of different type of cars that have accidents or not.\n",
    "sns.catplot(x=\"has_accidents\", kind=\"count\",hue='body_type', data=df_final)"
   ]
  },
  {
   "cell_type": "code",
   "execution_count": 49,
   "metadata": {},
   "outputs": [
    {
     "data": {
      "text/plain": [
       "<seaborn.axisgrid.FacetGrid at 0x1e71eb4e2b0>"
      ]
     },
     "execution_count": 49,
     "metadata": {},
     "output_type": "execute_result"
    },
    {
     "data": {
      "image/png": "[encoded data removed]",
      "text/plain": [
       "<Figure size 360x360 with 1 Axes>"
      ]
     },
     "metadata": {
      "needs_background": "light"
     },
     "output_type": "display_data"
    }
   ],
   "source": [
    "#Visualize the number of frame damaged cars\n",
    "sns.catplot(x=\"frame_damaged\", kind=\"count\", data=df_final)"
   ]
  },
  {
   "cell_type": "code",
   "execution_count": 50,
   "metadata": {},
   "outputs": [
    {
     "data": {
      "text/plain": [
       "1587"
      ]
     },
     "execution_count": 50,
     "metadata": {},
     "output_type": "execute_result"
    }
   ],
   "source": [
    "#check the count of frame_damaged cars\n",
    "df_final['frame_damaged'].values.sum()"
   ]
  },
  {
   "cell_type": "code",
   "execution_count": 51,
   "metadata": {},
   "outputs": [
    {
     "data": {
      "text/plain": [
       "<seaborn.axisgrid.FacetGrid at 0x1e4e08bdfa0>"
      ]
     },
     "execution_count": 51,
     "metadata": {},
     "output_type": "execute_result"
    },
    {
     "data": {
      "image/png": "[encoded data removed]",
      "text/plain": [
       "<Figure size 864x576 with 1 Axes>"
      ]
     },
     "metadata": {
      "needs_background": "light"
     },
     "output_type": "display_data"
    }
   ],
   "source": [
    "# check the number of different type of cars,it looks like SUV is the most popular car with almost 3500, Sedan is the 2nd most popular car.\n",
    "sns.catplot(x=\"body_type\", kind=\"count\",data=df_final,height=8, aspect=1.5)"
   ]
  },
  {
   "cell_type": "markdown",
   "metadata": {},
   "source": [
    "### Data normality check"
   ]
  },
  {
   "cell_type": "code",
   "execution_count": 75,
   "metadata": {},
   "outputs": [
    {
     "name": "stdout",
     "output_type": "stream",
     "text": [
      "<class 'pandas.core.frame.DataFrame'>\n",
      "Int64Index: 697989 entries, 38 to 3000039\n",
      "Data columns (total 14 columns):\n",
      " #   Column                Non-Null Count   Dtype  \n",
      "---  ------                --------------   -----  \n",
      " 0   city_fuel_economy     697989 non-null  float64\n",
      " 1   daysonmarket          697989 non-null  int64  \n",
      " 2   engine_displacement   697989 non-null  float64\n",
      " 3   height                697882 non-null  float64\n",
      " 4   highway_fuel_economy  697989 non-null  float64\n",
      " 5   horsepower            697989 non-null  float64\n",
      " 6   length                697882 non-null  float64\n",
      " 7   maximum_seating       697884 non-null  float64\n",
      " 8   mileage               697989 non-null  float64\n",
      " 9   owner_count           697989 non-null  float64\n",
      " 10  price                 697989 non-null  float64\n",
      " 11  seller_rating         697989 non-null  float64\n",
      " 12  width                 697885 non-null  float64\n",
      " 13  year                  697989 non-null  int64  \n",
      "dtypes: float64(12), int64(2)\n",
      "memory usage: 99.9 MB\n",
      "None\n"
     ]
    }
   ],
   "source": [
    "##select all numberical data type from the final data\n",
    "df_final_num=df_final.iloc[:, np.r_[1:4,6:9,10:18]]\n",
    "print(df_final_num.info())"
   ]
  },
  {
   "cell_type": "code",
   "execution_count": null,
   "metadata": {},
   "outputs": [],
   "source": [
    "##check all numerical type data's normality with pairplot\n",
    "sns.pairplot(df_final_num)"
   ]
  },
  {
   "cell_type": "markdown",
   "metadata": {},
   "source": [
    "#### From the histogram, we may easily see  city_fuel_economy,engine_displacement and highway_fuel_economy more normally distributed than other columns. As our sample size is large enough,we use Central Limit Theorem rule and assume they're approximately normal."
   ]
  },
  {
   "cell_type": "markdown",
   "metadata": {},
   "source": [
    "### Correlation check"
   ]
  },
  {
   "cell_type": "code",
   "execution_count": null,
   "metadata": {},
   "outputs": [],
   "source": []
  },
  {
   "cell_type": "code",
   "execution_count": null,
   "metadata": {},
   "outputs": [],
   "source": []
  },
  {
   "cell_type": "markdown",
   "metadata": {},
   "source": [
    "### Visualize Attributes"
   ]
  },
  {
   "cell_type": "markdown",
   "metadata": {},
   "source": [
    "### Explore Joint Attributes"
   ]
  },
  {
   "cell_type": "markdown",
   "metadata": {},
   "source": [
    "When it comes to joint attributes, we would like to see if there's correlation between make name, price, wheel system and car body type.\n",
    "\n",
    "First, we asked: \n",
    "\n",
    "*What's the most popular make name for used SUV, pickup Truck, sedan and convertibale?*\n",
    "* \"Ford\" is the most popular make name for used SUV, Pickup Truck and Convertiable\n",
    "* \"Toyota\" is the most popular make name for used Sedan"
   ]
  },
  {
   "cell_type": "code",
   "execution_count": null,
   "metadata": {
    "scrolled": true
   },
   "outputs": [],
   "source": [
    "df_carMake = pd.crosstab(df_cln_1.make_name, df_cln_1.body_type)\n",
    "df_carMake.plot(figsize=(20,20), kind=\"bar\", stacked = True)"
   ]
  },
  {
   "cell_type": "markdown",
   "metadata": {},
   "source": [
    "Another question we asked was:\n",
    "\n",
    "*What's the most popular make name for transmission (such as Automatic, CVT, Dual Clutch, or Manual)?*\n",
    "\n",
    "* \"Ford\" is the most popular make name for 'Automatic' transmission\n",
    "* \"Nissan\" is the most popular make name for 'CVT' transmission\n",
    "* \"Acura\" is the most popular make name for 'Dual Clutch' transmission\n",
    "* \"Ford\" is the most popular make name for 'Manual' transmission"
   ]
  },
  {
   "cell_type": "code",
   "execution_count": null,
   "metadata": {
    "scrolled": true
   },
   "outputs": [],
   "source": [
    "df_transmission = df_cln_1.groupby(['make_name', 'transmission'])['transmission'].count().unstack().fillna(0)\n",
    "df_transmission.plot(figsize=(20,20), kind=\"bar\", stacked = True)"
   ]
  },
  {
   "cell_type": "markdown",
   "metadata": {},
   "source": [
    "We then asked:\n",
    "\n",
    "*What's the highest amount of seating people are looking for when looking to buy a used car?*\n",
    "* The most popular number of seats for used cars is 5 seats\n",
    "* The second most popular number of seats for used car is 6 seats\n",
    "* \"Ford\" is the most popular make name for both 5 seats used cars, and 6 seats used cars"
   ]
  },
  {
   "cell_type": "code",
   "execution_count": null,
   "metadata": {
    "scrolled": false
   },
   "outputs": [],
   "source": [
    "df_carSeats = pd.crosstab(df_cln_1.make_name, df_cln_1.maximum_seating)\n",
    "df_carSeats.plot(figsize=(20,20), kind=\"bar\", stacked = True)"
   ]
  },
  {
   "cell_type": "markdown",
   "metadata": {},
   "source": [
    "Another interesting observation was:\n",
    "*How is the data distributed by FWD (front weel drive)/RWD (rear wheel drive)?*\n",
    "* Most of the used Sedans sold are FWD (front weel drive)\n",
    "* Most of the used convertibles sold are RWD (real wheel drive)"
   ]
  },
  {
   "cell_type": "code",
   "execution_count": null,
   "metadata": {
    "scrolled": true
   },
   "outputs": [],
   "source": [
    "df_seadan_wheelType = pd.crosstab(df_cln_1.make_name, [df_cln_1.body_type , df_cln_1.wheel_system]).Sedan\n",
    "df_seadan_wheelType.plot(figsize=(20,20), kind=\"bar\", stacked = True)"
   ]
  },
  {
   "cell_type": "code",
   "execution_count": null,
   "metadata": {
    "scrolled": true
   },
   "outputs": [],
   "source": [
    "df_convertible_wheelType = pd.crosstab(df_cln_1.make_name, [df_cln_1.body_type , df_cln_1.wheel_system]).Convertible\n",
    "df_convertible_wheelType.plot(figsize=(20,20), kind=\"bar\", stacked = True)"
   ]
  },
  {
   "cell_type": "markdown",
   "metadata": {},
   "source": [
    "### Explore Attributes and Class\n",
    "we are using price (for regression), has_accidents(for logistic regression) and body_type(for multiclass classifications) as the response variables. In this section, we will try to find some interesting relations involving these features. \n",
    "\n",
    "'has-accidents' and 'is_new' are two booleans variables in our final dataset. We could have either or these these two values for the binary classification. But has_accidents feature is more balanced (false: 87% and true:13%) than that of is_new. That is the another driver, besides what is stated in the Business Understanding section, why we leaned on has_accidents for the binary response variable. However, we could have used is_new for the response variable. In that case, we should downscale or upscale, though the downscaling is preferred, training data, which would be an additional step. "
   ]
  },
  {
   "cell_type": "markdown",
   "metadata": {},
   "source": [
    "print('--attribute counts of is_new--')\n",
    "print(df_final['is_new'].value_counts())\n",
    "\n",
    "print('--attribute counts of has_accidents--')\n",
    "print(df_final['has_accidents'].value_counts())"
   ]
  },
  {
   "cell_type": "markdown",
   "metadata": {},
   "source": [
    "One may think the drivers of Sendan, Minivan or wagon may be more cautious that those who drive SUV or Pickup Truck. But at least based on used car market as presented in this visual, there is not much difference in the driving behavior amoung drives of different body types. However, the drivers of coupe and convertible exhibit restriant while on the road because the damage of their vehicle would cost them dearly."
   ]
  },
  {
   "cell_type": "code",
   "execution_count": null,
   "metadata": {
    "scrolled": true
   },
   "outputs": [],
   "source": [
    "Price_bodytype_accidents = sns.barplot(x=\"body_type\", y=\"price\", hue = \"has_accidents\",data=df_final)\n",
    "Price_bodytype_accidents.set_xticklabels(Price_bodytype_accidents.get_xticklabels(), rotation=90)"
   ]
  },
  {
   "cell_type": "markdown",
   "metadata": {},
   "source": [
    "Coupe, SUV/Crossover, Convertible and Sedan have many outliers, whereas Wagon, Minivan and Vad do not have any outlier. In median used car price of 9 body types are with a close band. "
   ]
  },
  {
   "cell_type": "code",
   "execution_count": null,
   "metadata": {
    "scrolled": true
   },
   "outputs": [],
   "source": [
    "Price_bodytype = sns.boxplot(x=\"body_type\", y=\"price\", data=df_final)\n",
    "Price_bodytype.set_xticklabels(Price_bodytype.get_xticklabels(), rotation=90)"
   ]
  },
  {
   "cell_type": "markdown",
   "metadata": {},
   "source": [
    "Sedan, SUV/Crossover, Pickup Truck stay in the market much loger than Coupe, Wagon and Hackback do. It is surprise to see that Coupe, though it is an expensive category car, sells faster Sedan, which we believe a common people's car. Most likely supply demand or mispricing is causing this anamoly. "
   ]
  },
  {
   "cell_type": "code",
   "execution_count": null,
   "metadata": {
    "scrolled": true
   },
   "outputs": [],
   "source": [
    "plot = sns.catplot(x=\"body_type\", y=\"daysonmarket\", data=df_final)\n",
    "for axes in plot.axes.flat:\n",
    "    _ = axes.set_xticklabels(axes.get_xticklabels(), rotation=90)\n",
    "plt.tight_layout()"
   ]
  },
  {
   "cell_type": "markdown",
   "metadata": {},
   "source": [
    "The lower the mileage, the higher the price, and that goes with the general notion. However, the relation breaks when the mileage goes beyond 50k as the price does not vary much from that point. "
   ]
  },
  {
   "cell_type": "code",
   "execution_count": null,
   "metadata": {
    "scrolled": true
   },
   "outputs": [],
   "source": [
    "plt2 = sns.scatterplot(data=df_final, x=\"mileage\", y=\"price\", palette=\"deep\")"
   ]
  },
  {
   "cell_type": "markdown",
   "metadata": {},
   "source": [
    "We may think that the used cars having accidents will stay longer in the market, but that is not the case with an exception of Van. "
   ]
  },
  {
   "cell_type": "code",
   "execution_count": null,
   "metadata": {
    "scrolled": true
   },
   "outputs": [],
   "source": [
    "Plt3 = sns.barplot(x=\"body_type\", y=\"daysonmarket\", hue = \"has_accidents\", palette=\"deep\",data=df_final)\n",
    "Plt3.set_xticklabels(Plt3.get_xticklabels(), rotation=90)"
   ]
  },
  {
   "cell_type": "markdown",
   "metadata": {},
   "source": [
    "### New Features"
   ]
  },
  {
   "cell_type": "markdown",
   "metadata": {},
   "source": [
    "We further group numerical predictors, including \"price\", to help us to gain more insight. \n",
    "\n",
    "This new feature is created using the attribute 'price'. \n",
    "We divide price into different price groups as following:\n",
    "\n",
    "* \"<5000\"          : price < 5000\n",
    "* \"5000-10000\"     : 5000 <= price <= 10000\n",
    "* \"10000-15000\"    : 10000 < price <= 15000\n",
    "* \"15000-20000\"    : 15000 < price <= 20000\n",
    "* \"20000-25000\"    : 20000 < price <= 25000\n",
    "* \"25000 and over\" : price > 25000\n",
    "\n",
    "Obervations after we had used the new price group for data analysing:\n",
    "* Over 65% of customers spent 25000 and more when buying a used Pickup truck\n",
    "* Over 50% of customers spent over 20000 for a used SUV\n",
    "* Over 50% of customers spent between 10000-20000 when buying a used sedan"
   ]
  },
  {
   "cell_type": "code",
   "execution_count": null,
   "metadata": {
    "scrolled": true
   },
   "outputs": [],
   "source": [
    "price_group = []\n",
    "for price in df_final[\"price\"]:\n",
    "    if price < 5000:\n",
    "        price_group.append(\"<5000\")\n",
    "    elif 5000 <= price <= 10000:\n",
    "        price_group.append(\"5000-10000\")\n",
    "    elif 10000 < price <= 15000:\n",
    "        price_group.append(\"10000-15000\")\n",
    "    elif 15000 < price <= 20000:\n",
    "        price_group.append(\"15000-20000\")\n",
    "    elif 20000 < price <= 25000:\n",
    "        price_group.append(\"20000-25000\")\n",
    "    else:\n",
    "        price_group.append(\"25000 and over\")"
   ]
  },
  {
   "cell_type": "code",
   "execution_count": null,
   "metadata": {
    "scrolled": true
   },
   "outputs": [],
   "source": [
    "new_df_price = df_final.copy()\n",
    "new_df_price[\"price_group\"] = price_group\n",
    "del new_df_price[\"price\"]\n",
    "new_df_price.head(5)"
   ]
  },
  {
   "cell_type": "code",
   "execution_count": null,
   "metadata": {
    "scrolled": true
   },
   "outputs": [],
   "source": [
    "sns.catplot(x=\"price_group\", y= \"body_type\", kind=\"bar\", data=new_df_price)"
   ]
  },
  {
   "cell_type": "code",
   "execution_count": null,
   "metadata": {
    "scrolled": true
   },
   "outputs": [],
   "source": [
    "df_price = pd.crosstab(new_df_price.body_type, new_df_price.price_group)\n",
    "df_price.plot(figsize=(20,20), kind=\"bar\", stacked = True)"
   ]
  },
  {
   "cell_type": "markdown",
   "metadata": {},
   "source": [
    "### Exceptional Work"
   ]
  },
  {
   "cell_type": "markdown",
   "metadata": {},
   "source": [
    "In this section, we will use *one hot encoding* to encode the data and do a logistical regression on the data set"
   ]
  },
  {
   "cell_type": "code",
   "execution_count": null,
   "metadata": {
    "scrolled": true
   },
   "outputs": [],
   "source": [
    "import numpy as np\n",
    "import pandas as pd\n",
    "import sklearn.preprocessing as preprocessing\n",
    "import seaborn as sns\n",
    "import matplotlib.pyplot as plt\n",
    "import sklearn.model_selection as cross_validation\n",
    "import sklearn.linear_model as linear_model\n",
    "from sklearn.metrics import accuracy_score\n",
    "from sklearn.preprocessing import OneHotEncoder\n",
    "from sklearn.ensemble import RandomForestRegressor, GradientBoostingRegressor"
   ]
  },
  {
   "cell_type": "markdown",
   "metadata": {},
   "source": [
    "First, we encode the categorical features as numbers"
   ]
  },
  {
   "cell_type": "code",
   "execution_count": null,
   "metadata": {
    "scrolled": true
   },
   "outputs": [],
   "source": [
    "def number_encode_features(df_final):\n",
    "    result = df_final.copy()\n",
    "    encoders = {}\n",
    "    for column in result.columns:\n",
    "        if result.dtypes[column] == np.object:\n",
    "            encoders[column] = preprocessing.LabelEncoder()\n",
    "            result[column] = encoders[column].fit_transform(result[column])\n",
    "    return result, encoders"
   ]
  },
  {
   "cell_type": "markdown",
   "metadata": {},
   "source": [
    "Below shows a snap shot of what the final data looks like after categorical data has been encoded.\n",
    "You can see the body type is in a numerical representation, instead of a string (object) type, before being encoded."
   ]
  },
  {
   "cell_type": "code",
   "execution_count": null,
   "metadata": {
    "scrolled": false
   },
   "outputs": [],
   "source": [
    "encoded_data.tail(5)"
   ]
  },
  {
   "cell_type": "markdown",
   "metadata": {},
   "source": [
    "As indicated in the heatmap in the sample statistics (above) section, we want to further explore the strong correlation between \"price\" and \"body_type\"."
   ]
  },
  {
   "cell_type": "code",
   "execution_count": null,
   "metadata": {
    "scrolled": true
   },
   "outputs": [],
   "source": [
    "encoded_data, encoders = number_encode_features(df_final)\n",
    "new_series = encoded_data[\"body_type\"]"
   ]
  },
  {
   "cell_type": "markdown",
   "metadata": {},
   "source": [
    "Here, we are comparing correlation between \"body_type\" and the rest of the attributes by spliting and scaling the data."
   ]
  },
  {
   "cell_type": "code",
   "execution_count": null,
   "metadata": {
    "scrolled": true
   },
   "outputs": [],
   "source": [
    "X_train, X_test, y_train, y_test = cross_validation.train_test_split(encoded_data[encoded_data.columns.drop(\"body_type\")], new_series, train_size=0.70)\n",
    "scaler = preprocessing.StandardScaler()\n",
    "\n",
    "X_train = pd.DataFrame(scaler.fit_transform(X_train), columns=X_train.columns)\n",
    "X_test = scaler.transform(X_test)"
   ]
  },
  {
   "cell_type": "markdown",
   "metadata": {},
   "source": [
    "Below, we ran it using \"logistic regression\""
   ]
  },
  {
   "cell_type": "code",
   "execution_count": null,
   "metadata": {
    "scrolled": true
   },
   "outputs": [],
   "source": [
    "cls = linear_model.LogisticRegression()\n",
    "cls.fit(X_train, y_train)\n",
    "y_pred = cls.predict(X_test)"
   ]
  },
  {
   "cell_type": "code",
   "execution_count": null,
   "metadata": {
    "scrolled": true
   },
   "outputs": [],
   "source": [
    "print (accuracy_score(y_test, y_pred))"
   ]
  },
  {
   "cell_type": "markdown",
   "metadata": {},
   "source": [
    "Below are a short summary of the corrleation between attribuates and body_type:"
   ]
  },
  {
   "cell_type": "code",
   "execution_count": null,
   "metadata": {
    "scrolled": true
   },
   "outputs": [],
   "source": [
    "coefs = pd.Series(cls.coef_[0], index=X_train.columns)\n",
    "print (coefs.sort_values(ascending = False))"
   ]
  },
  {
   "cell_type": "code",
   "execution_count": null,
   "metadata": {
    "scrolled": true
   },
   "outputs": [],
   "source": []
  }
 ],
 "metadata": {
  "kernelspec": {
   "display_name": "Python 3",
   "language": "python",
   "name": "python3"
  },
  "language_info": {
   "codemirror_mode": {
    "name": "ipython",
    "version": 3
   },
   "file_extension": ".py",
   "mimetype": "text/x-python",
   "name": "python",
   "nbconvert_exporter": "python",
   "pygments_lexer": "ipython3",
   "version": "3.8.5"
  }
 },
 "nbformat": 4,
 "nbformat_minor": 4
}
